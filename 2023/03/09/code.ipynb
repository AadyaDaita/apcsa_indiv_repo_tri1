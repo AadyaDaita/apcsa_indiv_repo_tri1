{
 "cells": [
  {
   "cell_type": "markdown",
   "metadata": {},
   "source": [
    "# Small Code Excercises"
   ]
  },
  {
   "cell_type": "markdown",
   "metadata": {},
   "source": [
    "- Write a Jupyter notebook code example on the following primitive types with a code example (4 to 5 lines), preference would be using array and methods like substring and random as applicable: int, double, boolean, char.\n",
    "- Now convert each of the examples to corresponding Wrapper classes, using arrays.\n",
    "- Expression of these in Class or PBL forms is an option. But the review must be easy for me to see work."
   ]
  },
  {
   "cell_type": "code",
   "execution_count": 10,
   "metadata": {},
   "outputs": [
    {
     "name": "stdout",
     "output_type": "stream",
     "text": [
      "5\n",
      "true\n",
      "3.5\n"
     ]
    }
   ],
   "source": [
    "class Main {\n",
    "    public static void main(String[] args) {\n",
    "        int integer = 5;\n",
    "        boolean boo = true;\n",
    "        double fl = 3.5;\n",
    "\n",
    "        Integer num = Integer.valueOf(integer);\n",
    "        Double db = Double.valueOf(fl);\n",
    "        Boolean bn = Boolean.valueOf(boo);\n",
    "\n",
    "        System.out.println(num);\n",
    "        System.out.println(bn);\n",
    "        System.out.println(db);\n",
    "    }\n",
    "}\n",
    "\n",
    "Main.main(null);"
   ]
  },
  {
   "cell_type": "markdown",
   "metadata": {},
   "source": [
    "# Method and Control Structure Notes"
   ]
  },
  {
   "cell_type": "markdown",
   "metadata": {},
   "source": [
    "## 2018 FRQ"
   ]
  },
  {
   "cell_type": "code",
   "execution_count": null,
   "metadata": {},
   "outputs": [],
   "source": [
    "\n",
    "public boolean simulate()\n",
    "{\n",
    "  int frogPosition = 0;\n",
    "  int hopsRemaining = maxHops;\n",
    "\n",
    "  while(frogPosition < goalDistance &&\n",
    "      frogPosition >= 0 &&\n",
    "      hopsRemaining > 0)\n",
    "  {\n",
    "    frogPosition += hopDistance();\n",
    "    hopsRemaining--;\n",
    "  }\n",
    "\n",
    "  return frogPosition >= goalDistance;"
   ]
  },
  {
   "cell_type": "code",
   "execution_count": null,
   "metadata": {},
   "outputs": [],
   "source": [
    "ublic double runSimulations(int num)\n",
    "{\n",
    "  int successfulRuns = 0;\n",
    "\n",
    "  for(int run = 1; run <= num; run++)\n",
    "    if(simulate())\n",
    "      successfulRuns++;\n",
    "\n",
    "  return successfulRuns / (double) num;\n",
    "}"
   ]
  },
  {
   "cell_type": "markdown",
   "metadata": {},
   "source": [
    "## DiverseArray"
   ]
  },
  {
   "cell_type": "code",
   "execution_count": 11,
   "metadata": {},
   "outputs": [
    {
     "name": "stdout",
     "output_type": "stream",
     "text": [
      "1\t3\t2\t7\t3\t= \t16\n",
      "10\t10\t4\t6\t2\t= \t32\n",
      "5\t3\t5\t9\t6\t= \t28\n",
      "7\t6\t4\t2\t1\t= \t20\n",
      "Mat1 Diverse: true\n",
      "\n",
      "1\t1\t5\t3\t4\t= \t14\n",
      "12\t7\t6\t1\t9\t= \t35\n",
      "8\t11\t10\t2\t5\t= \t36\n",
      "3\t2\t3\t0\t6\t= \t14\n",
      "Mat2 Diverse: false\n"
     ]
    }
   ],
   "source": [
    "\n",
    " public class DiverseArray {\n",
    "    public static int arraySum(int[] arr) {\n",
    "        int sum = 0;    // sum initializer\n",
    "\n",
    "        // enhanced for loop as values are needed, not index\n",
    "        for (int num : arr) {\n",
    "            sum += num;\n",
    "            System.out.print(num + \"\\t\");  // debug\n",
    "        }\n",
    "\n",
    "        return sum;\n",
    "    }\n",
    "\n",
    "    public static int[] rowSums(int[][] arr2D) {\n",
    "        int rows = arr2D.length;        // remember arrays have length\n",
    "        int[] sumList = new int[rows];  // size of sumList is based on rows\n",
    "\n",
    "        // conventional for loop as index used for sumList\n",
    "        for (int i = 0; i < rows; i++) {\n",
    "            sumList[i] = arraySum(arr2D[i]);\n",
    "            System.out.println(\"= \\t\" + sumList[i]);  // debug\n",
    "        }\n",
    "\n",
    "        return sumList;\n",
    "    }\n",
    "\n",
    "    public static boolean isDiverse(int[][] arr2D) {\n",
    "        int [] sums = rowSums(arr2D);\n",
    "        int sumsLength = sums.length;\n",
    "\n",
    "        // ij loop, two indexes needed in evaluation, similar to bubble sort iteration\n",
    "        for(int i = 0; i < sumsLength - 1; i++) {\n",
    "            for (int j = i + 1; j < sumsLength; j++) {\n",
    "                if (sums[i] == sums[j]) {\n",
    "                    return false;    // leave as soon as you find duplicate\n",
    "                }\n",
    "            }\n",
    "        }\n",
    "        return true; // all diverse checks have been made\n",
    "    }\n",
    "\n",
    "    public static void main(String[] args) {\n",
    "        int[][] mat1 = {\n",
    "                { 1, 3, 2, 7, 3 },                       // row 1\n",
    "                { 10, 10, 4, 6, 2 },                     // row 2\n",
    "                { 5, 3, 5, 9, 6 },                       // row 3\n",
    "                { 7, 6, 4, 2, 1 }                        // row 4\n",
    "        };\n",
    "        int[][] mat2 = {\n",
    "                { 1, 1, 5, 3, 4 },                       // row 1\n",
    "                { 12, 7, 6, 1, 9 },                      // row 2\n",
    "                { 8, 11, 10, 2, 5 },                     // row 3\n",
    "                { 3, 2, 3, 0, 6 }                        // row 4\n",
    "        };\n",
    "\n",
    "        System.out.println(\"Mat1 Diverse: \" + isDiverse(mat1));\n",
    "        System.out.println();\n",
    "        System.out.println(\"Mat2 Diverse: \" + isDiverse(mat2));\n",
    "    }\n",
    "\n",
    "}\n",
    "\n",
    "DiverseArray.main(null);"
   ]
  },
  {
   "cell_type": "markdown",
   "metadata": {},
   "source": [
    "## DiverseArray Explanation \n",
    "\n",
    "1. We are looping through the each 2D array, however we only loop through the rows. \n",
    "2. We get the length of the row.\n",
    "3. Then, using a for loop, loop through the columns, and add all the values in each column. \n",
    "4. After doing so, move on to the next row. "
   ]
  },
  {
   "cell_type": "markdown",
   "metadata": {},
   "source": [
    "# IntByReference "
   ]
  },
  {
   "cell_type": "code",
   "execution_count": 12,
   "metadata": {},
   "outputs": [
    {
     "name": "stdout",
     "output_type": "stream",
     "text": [
      "Before: 21 16\n",
      "After: 16 21\n",
      "\n",
      "Before: 16 21\n",
      "After: 16 21\n",
      "\n",
      "Before: 16 -1\n",
      "After: -1 16\n",
      "\n"
     ]
    }
   ],
   "source": [
    "\n",
    "public class IntByReference {\n",
    "    private int value;\n",
    "\n",
    "    public IntByReference(Integer value) {\n",
    "        this.value = value;\n",
    "    }\n",
    "\n",
    "    public String toString() {\n",
    "        return (String.format(\"%d\", this.value));\n",
    "    }\n",
    "\n",
    "    public void swapToLowHighOrder(IntByReference i) {\n",
    "        if (this.value > i.value) {\n",
    "            int tmp = this.value;\n",
    "            this.value = i.value;\n",
    "            i.value = tmp;\n",
    "        }\n",
    "    }\n",
    "\n",
    "    public static void swapper(int n0, int n1) {\n",
    "        IntByReference a = new IntByReference(n0);\n",
    "        IntByReference b = new IntByReference(n1);\n",
    "        System.out.println(\"Before: \" + a + \" \" + b);\n",
    "        a.swapToLowHighOrder(b);  // conditionally build swap method to change values of a, b\n",
    "        System.out.println(\"After: \" + a + \" \" + b);\n",
    "        System.out.println();\n",
    "    }\n",
    "\n",
    "    public static void main(String[] ags) {\n",
    "        IntByReference.swapper(21, 16);\n",
    "        IntByReference.swapper(16, 21);\n",
    "        IntByReference.swapper(16, -1);\n",
    "    }\n",
    "\n",
    "}\n",
    "\n",
    "IntByReference.main(null);"
   ]
  },
  {
   "cell_type": "markdown",
   "metadata": {},
   "source": [
    "- The code swaps two numbers to make sure that they are in the correct order. \n",
    "    - swapToLowHighOrder is the method that does the actual swap\n",
    "- swapper first gets the two numbers, prints them in the old order\n",
    "- It then calls the swapToLowHighOrder method.\n",
    "- Main has several test cases.  "
   ]
  },
  {
   "cell_type": "markdown",
   "metadata": {},
   "source": [
    "# Math.Random\n",
    "\n",
    "- Now to get random integer numbers from a given fixed range, we take a min and max variable to define the range for our random numbers, both min and max are inclusive in the range.\n",
    "- Since Math.random() obviously returns double, we can cast it into an int\n",
    "- If you multiply Math.random by number N, then you will get a random number from 0 until N\n",
    "- If you add a number to the Math.random, then that will be the minimum starting number\n",
    "- Review AP exam questions with this. \n"
   ]
  },
  {
   "cell_type": "code",
   "execution_count": null,
   "metadata": {},
   "outputs": [],
   "source": [
    "class Gfg2 {\n",
    " \n",
    "    // driver code\n",
    "    public static void main(String args[])\n",
    "    {\n",
    "        // define the range\n",
    "        int max = 10;\n",
    "        int min = 1;\n",
    "        int range = max - min + 1;\n",
    " \n",
    "        // generate random numbers within 1 to 10\n",
    "        for (int i = 0; i < 10; i++) {\n",
    "            int rand = (int)(Math.random() * range) + min;\n",
    " \n",
    "            // Output is different everytime this code is executed\n",
    "            System.out.println(rand);\n",
    "        }\n",
    "    }\n",
    "}"
   ]
  }
 ],
 "metadata": {
  "kernelspec": {
   "display_name": "Java",
   "language": "java",
   "name": "java"
  },
  "language_info": {
   "codemirror_mode": "java",
   "file_extension": ".jshell",
   "mimetype": "text/x-java-source",
   "name": "java",
   "pygments_lexer": "java",
   "version": "11.0.16+8-post-Ubuntu-0ubuntu120.04"
  },
  "orig_nbformat": 4
 },
 "nbformat": 4,
 "nbformat_minor": 2
}
