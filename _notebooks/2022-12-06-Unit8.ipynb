{
 "cells": [
  {
   "cell_type": "markdown",
   "metadata": {},
   "source": [
    "# 2D Arrays Homework"
   ]
  },
  {
   "cell_type": "markdown",
   "metadata": {},
   "source": [
    "### Create a class for 2D array learning."
   ]
  },
  {
   "cell_type": "code",
   "execution_count": null,
   "metadata": {
    "vscode": {
     "languageId": "java"
    }
   },
   "outputs": [],
   "source": [
    "public class two_d_arrays{\n",
    "\n",
    "    \n",
    "}"
   ]
  },
  {
   "cell_type": "markdown",
   "metadata": {},
   "source": [
    "### Create a method to initialize a 2D array with arbitrary values"
   ]
  },
  {
   "cell_type": "code",
   "execution_count": 14,
   "metadata": {
    "vscode": {
     "languageId": "java"
    }
   },
   "outputs": [
    {
     "name": "stdout",
     "output_type": "stream",
     "text": [
      "29 30 31 32 \n",
      "30 31 32 33 \n",
      "31 32 33 34 \n",
      "32 33 34 35 \n"
     ]
    }
   ],
   "source": [
    "\n",
    "\n",
    "public class two_d_arrays{\n",
    "    public static int[][] numbers = new int[4][4];\n",
    "\n",
    "    public static void initialize(){\n",
    "        for (int i=0; i<4; i++){\n",
    "            for (int j =0; j<4; j++){\n",
    "                numbers[i][j] = i+j+29;\n",
    "            }\n",
    "        }\n",
    "\n",
    "\n",
    "        for(int i =0; i < numbers.length; i++)\n",
    "        {\n",
    "            for (int j=0; j<numbers[i].length; j++){ \n",
    "                System.out.print(numbers[i][j] + \" \");\n",
    "            }\n",
    "            System.out.println();\n",
    "        }\n",
    "\n",
    "        \n",
    "\n",
    "\n",
    "\n",
    "    }\n",
    "    \n",
    "    \n",
    "\n",
    "\n",
    "    public static void main(String[] args){\n",
    "        two_d_arrays.initialize();\n",
    "    }\n",
    "}\n",
    "\n",
    "\n",
    "two_d_arrays.main(null);\n"
   ]
  },
  {
   "cell_type": "markdown",
   "metadata": {},
   "source": [
    "### Create a method to reverse the 2D array and print out the values"
   ]
  },
  {
   "cell_type": "code",
   "execution_count": 23,
   "metadata": {
    "vscode": {
     "languageId": "java"
    }
   },
   "outputs": [
    {
     "name": "stdout",
     "output_type": "stream",
     "text": [
      "Original: \n",
      "29 30 31 32 \n",
      "30 31 32 33 \n",
      "31 32 33 34 \n",
      "32 33 34 35 \n",
      "\n",
      "reversed: \n",
      "35 34 33 32 \n",
      "34 33 32 31 \n",
      "33 32 31 30 \n",
      "32 31 30 29 \n"
     ]
    }
   ],
   "source": [
    "\n",
    "\n",
    "\n",
    "public class two_d_arrays{\n",
    "    public static int[][] numbers = new int[4][4];\n",
    "\n",
    "    public static int[][] initialize(){\n",
    "        for (int i=0; i<4; i++){\n",
    "            for (int j =0; j<4; j++){\n",
    "                numbers[i][j] = i+j+29;\n",
    "            }\n",
    "        }\n",
    "\n",
    "\n",
    "        for(int i =0; i < numbers.length; i++)\n",
    "        {\n",
    "            for (int j=0; j<numbers[i].length; j++){ \n",
    "                System.out.print(numbers[i][j] + \" \");\n",
    "            }\n",
    "            System.out.println();\n",
    "        }\n",
    "      \n",
    "\n",
    "\n",
    "        return(numbers);\n",
    "    }\n",
    "\n",
    "\n",
    "\n",
    "    public static void reverse(){\n",
    "        int[][] reverse_arr = new int[4][4];\n",
    "        for(int i =0; i < numbers.length; i++)\n",
    "        {\n",
    "                for (int j=0; j<numbers[i].length; j++){\n",
    "                reverse_arr[numbers.length - 1 - i][numbers[i].length - 1 - j] = numbers[i][j];\n",
    "            }\n",
    "        }\n",
    "\n",
    "        \n",
    "\n",
    "        for(int i =0; i < reverse_arr.length; i++)\n",
    "        {\n",
    "            for (int j=0; j<reverse_arr[i].length; j++){ \n",
    "                System.out.print(reverse_arr[i][j] + \" \");\n",
    "               // System.out.println(numbers[i][j]);\n",
    "            }\n",
    "            System.out.println();\n",
    "        }\n",
    "\n",
    "\n",
    "        \n",
    "    }   \n",
    "    \n",
    "\n",
    "\n",
    "    public static void main(String[] args){\n",
    "       System.out.println(\"Original: \");\n",
    "        two_d_arrays.initialize();\n",
    "        System.out.println();\n",
    "        System.out.println(\"reversed: \");\n",
    "        two_d_arrays.reverse();\n",
    "    }\n",
    "}\n",
    "\n",
    "\n",
    "\n",
    "\n",
    "\n",
    "\n",
    "two_d_arrays.main(null);"
   ]
  },
  {
   "cell_type": "markdown",
   "metadata": {},
   "source": [
    "### Create a method that asks for the input of a position and it returns the corresponding value"
   ]
  },
  {
   "cell_type": "code",
   "execution_count": 29,
   "metadata": {
    "vscode": {
     "languageId": "java"
    }
   },
   "outputs": [
    {
     "name": "stdout",
     "output_type": "stream",
     "text": [
      "Original: \n",
      "29 30 31 32 \n",
      "30 31 32 33 \n",
      "31 32 33 34 \n",
      "32 33 34 35 \n",
      "\n",
      "used scanner object to input row and column: \n",
      "i = 2 \n",
      "j = 3 \n",
      "34"
     ]
    }
   ],
   "source": [
    "import java.util.Scanner;\n",
    "\n",
    "public class two_d_arrays{\n",
    "    public static int[][] numbers = new int[4][4];\n",
    "\n",
    "    public static int[][] initialize(){\n",
    "        for (int i=0; i<4; i++){\n",
    "            for (int j =0; j<4; j++){\n",
    "                numbers[i][j] = i+j+29;\n",
    "            }\n",
    "        }\n",
    "\n",
    "\n",
    "        for(int i =0; i < numbers.length; i++)\n",
    "        {\n",
    "            for (int j=0; j<numbers[i].length; j++){ \n",
    "                System.out.print(numbers[i][j] + \" \");\n",
    "            }\n",
    "            System.out.println();\n",
    "        }\n",
    "      \n",
    "\n",
    "\n",
    "        return(numbers);\n",
    "    }\n",
    "\n",
    "    public static void position(){\n",
    "        Scanner i_obj = new Scanner(System.in);  // Create a Scanner object     \n",
    "        String i_s = i_obj.nextLine();  // Read user input\n",
    "        int i = Integer.parseInt(i_s);\n",
    "\n",
    "        Scanner j_obj = new Scanner(System.in);  // Create a Scanner object     \n",
    "        String j_s = j_obj.nextLine();  // Read user input\n",
    "        int j = Integer.parseInt(j_s);\n",
    "\n",
    "\n",
    "        System.out.print(numbers[i][j]);\n",
    "        \n",
    "       \n",
    "    }\n",
    "\n",
    "\n",
    "\n",
    "   \n",
    "    public static void main(String[] args){\n",
    "       System.out.println(\"Original: \");\n",
    "        two_d_arrays.initialize();\n",
    "        System.out.println();\n",
    "        System.out.println(\"used scanner object to input row and column: \");\n",
    "        System.out.println(\"i = 2 \");\n",
    "        System.out.println(\"j = 3 \");\n",
    "        two_d_arrays.position();\n",
    "    }\n",
    "}\n",
    "\n",
    "\n",
    "\n",
    "\n",
    "\n",
    "\n",
    "two_d_arrays.main(null);\n",
    "\n"
   ]
  },
  {
   "cell_type": "markdown",
   "metadata": {},
   "source": [
    "### Create a method that multiplies each value in a row and then adds all the products together"
   ]
  },
  {
   "cell_type": "code",
   "execution_count": 34,
   "metadata": {
    "vscode": {
     "languageId": "java"
    }
   },
   "outputs": [
    {
     "name": "stdout",
     "output_type": "stream",
     "text": [
      "29 30 31 32 \n",
      "30 31 32 33 \n",
      "31 32 33 34 \n",
      "32 33 34 35 \n",
      "\n",
      "4214784\n"
     ]
    }
   ],
   "source": [
    "\n",
    "\n",
    "public class two_d_arrays{\n",
    "    public static int[][] numbers = new int[4][4];\n",
    "\n",
    "    public static int[][] initialize(){\n",
    "        for (int i=0; i<4; i++){\n",
    "            for (int j =0; j<4; j++){\n",
    "                numbers[i][j] = i+j+29;\n",
    "            }\n",
    "        }\n",
    "\n",
    "\n",
    "        for(int i =0; i < numbers.length; i++)\n",
    "        {\n",
    "            for (int j=0; j<numbers[i].length; j++){ \n",
    "                System.out.print(numbers[i][j] + \" \");\n",
    "            }\n",
    "            System.out.println();\n",
    "        }\n",
    "      \n",
    "\n",
    "\n",
    "        return(numbers);\n",
    "    }\n",
    "\n",
    "    public static int product(){\n",
    "        int final_counter = 0;\n",
    "        for (int i=0; i<4; i++){\n",
    "            int row_product = 1;\n",
    "            for (int j=0; j<4; j++){\n",
    "                row_product = row_product * numbers[i][j];\n",
    "\n",
    "            }\n",
    "\n",
    "            final_counter = final_counter + row_product;\n",
    "        }\n",
    "        System.out.println(final_counter);\n",
    "        return final_counter;\n",
    "\n",
    "    }\n",
    "    \n",
    "    \n",
    "\n",
    "\n",
    "    public static void main(String[] args){\n",
    "        two_d_arrays.initialize();\n",
    "        System.out.println();\n",
    "        two_d_arrays.product();\n",
    "    }\n",
    "}\n",
    "\n",
    "\n",
    "two_d_arrays.main(null);\n"
   ]
  },
  {
   "cell_type": "markdown",
   "metadata": {},
   "source": [
    "### Create a new object to test out each method in the main function"
   ]
  }
 ],
 "metadata": {
  "kernelspec": {
   "display_name": "Java",
   "language": "java",
   "name": "java"
  },
  "language_info": {
   "codemirror_mode": "java",
   "file_extension": ".jshell",
   "mimetype": "text/x-java-source",
   "name": "Java",
   "pygments_lexer": "java",
   "version": "11.0.16+8-post-Ubuntu-0ubuntu120.04"
  },
  "orig_nbformat": 4
 },
 "nbformat": 4,
 "nbformat_minor": 2
}
