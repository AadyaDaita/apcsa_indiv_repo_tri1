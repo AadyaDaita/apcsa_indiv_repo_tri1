{
 "cells": [
  {
   "cell_type": "markdown",
   "metadata": {},
   "source": [
    "# Units 1-4 hacks"
   ]
  },
  {
   "cell_type": "markdown",
   "metadata": {},
   "source": [
    "### Hack 1"
   ]
  },
  {
   "cell_type": "code",
   "execution_count": null,
   "metadata": {
    "vscode": {
     "languageId": "java"
    }
   },
   "outputs": [],
   "source": [
    "public class Car {\n",
    "    public static void main(String[] args) {\n",
    "        int year = 2023;\n",
    "        double price = 30000.00;\n",
    "        boolean isElectric = true;\n",
    "        \n",
    "        System.out.println(\"Year: \" + year);\n",
    "        System.out.println(\"Price: $\" + price);\n",
    "        System.out.println(\"Is Electric: \" + isElectric);\n",
    "    }\n",
    "}"
   ]
  },
  {
   "cell_type": "code",
   "execution_count": null,
   "metadata": {
    "vscode": {
     "languageId": "java"
    }
   },
   "outputs": [],
   "source": [
    "import java.util.Scanner;\n",
    "\n",
    "public class CarPrice {\n",
    "    public static void main(String[] args) {\n",
    "        Scanner scanner = new Scanner(System.in);\n",
    "\n",
    "        System.out.print(\"Enter the price of the car: \");\n",
    "        double price = scanner.nextDouble();\n",
    "\n",
    "        System.out.println(\"The price of the car is $\" + price);\n",
    "\n",
    "        scanner.close();\n",
    "    }\n",
    "}"
   ]
  },
  {
   "cell_type": "code",
   "execution_count": 2,
   "metadata": {
    "vscode": {
     "languageId": "java"
    }
   },
   "outputs": [
    {
     "name": "stdout",
     "output_type": "stream",
     "text": [
      "Number of cars on highway: 2\n",
      "Number of cars on highway: 4\n",
      "Number of cars on highway: 6\n",
      "Number of cars on highway: 8\n",
      "Number of cars on highway: 10\n"
     ]
    }
   ],
   "source": [
    "int cars = 0; // starting number of cars\n",
    "int numCarsEntering = 2; // number of cars entering at a time\n",
    "int numIterations = 5; // number of times to loop\n",
    "\n",
    "for (int i = 0; i < numIterations; i++) {\n",
    "    cars += numCarsEntering; // use compound operator to add cars\n",
    "    System.out.println(\"Number of cars on highway: \" + cars);\n",
    "}"
   ]
  },
  {
   "cell_type": "code",
   "execution_count": 3,
   "metadata": {
    "vscode": {
     "languageId": "java"
    }
   },
   "outputs": [
    {
     "name": "stdout",
     "output_type": "stream",
     "text": [
      "wheels: 8\n",
      "wheels: 16\n",
      "wheels: 24\n",
      "wheels: 32\n",
      "wheels: 40\n",
      "total wheels: 40\n"
     ]
    }
   ],
   "source": [
    "public class Hack1 {\n",
    "    public static void main(String[] args) {\n",
    "        int cars = 0; // starting number of cars\n",
    "        int numCarsEntering = 2; // number of cars entering at a time\n",
    "        int numIterations = 5; // number of times to loop\n",
    "\n",
    "        for (int i = 0; i < numIterations; i++) {\n",
    "            cars += numCarsEntering; // use compound operator to add cars\n",
    "            //System.out.println(\"Number of cars on highway: \" + cars);\n",
    "            int wheels = cars*4; \n",
    "                System.out.println(\"wheels: \" + wheels);\n",
    "        }\n",
    "        \n",
    "        //calculate cars\n",
    "        int wheels = cars*4; \n",
    "        System.out.println(\"total wheels: \" + wheels);\n",
    "\n",
    "    }\n",
    "}\n",
    "\n",
    "Hack1.main(null);"
   ]
  },
  {
   "cell_type": "markdown",
   "metadata": {},
   "source": [
    "### Hack 2"
   ]
  },
  {
   "cell_type": "code",
   "execution_count": 4,
   "metadata": {
    "vscode": {
     "languageId": "java"
    }
   },
   "outputs": [
    {
     "name": "stdout",
     "output_type": "stream",
     "text": [
      "Make: Toyota Model: Corolla year: 2022 price: 24999.99 is it used? false\n",
      "Make: Honda Model: Accord year: 2018 price: 18999.99 is it used? true\n",
      "Make: Ford Model: Mustang year: 2020 price: 34999.99 is it used? true\n"
     ]
    }
   ],
   "source": [
    "public class Car {\n",
    "    // create constructor\n",
    "    private String make;\n",
    "    private String model;\n",
    "    private int year;\n",
    "    private double price;\n",
    "    private boolean isUsed;\n",
    "\n",
    "    public Car(String make2, String model2, int year2, double price2, boolean isUsed2){\n",
    "        make = make2;\n",
    "        model = model2;\n",
    "        year = year2;\n",
    "        price = price2;\n",
    "        isUsed = isUsed2;\n",
    "    }\n",
    "    public String printCarDetails() {\n",
    "        // method to print car details\n",
    "        String return_s = \"Make: \" + make + \" Model: \" + model + \" year: \" + year + \" price: \" + price + \" is it used? \" + isUsed;\n",
    "        return return_s;\n",
    "      }\n",
    "\n",
    "    public static void main(String[] args){\n",
    "        Car car1 = new Car(\"Toyota\", \"Corolla\", 2022, 24999.99, false);\n",
    "        Car car2 = new Car(\"Honda\", \"Accord\", 2018, 18999.99, true);\n",
    "        Car car3 = new Car(\"Ford\", \"Mustang\", 2020, 34999.99, true );\n",
    "        //ArrayList<Car> cars = new ArrayList<Car>();\n",
    "        Car[] cars = new Car[3];\n",
    "        cars[0] = car1;\n",
    "        cars[1] = car2;\n",
    "        cars[2] = car3;\n",
    "        for (int i=0; i<cars.length; i++){\n",
    "           // String car_print = cars[i].printCarDetails();\n",
    "            System.out.println(cars[i].printCarDetails());\n",
    "        }\n",
    "    }\n",
    "}\n",
    "\n",
    "Car.main(null);"
   ]
  },
  {
   "cell_type": "markdown",
   "metadata": {},
   "source": [
    "### Hack 3"
   ]
  },
  {
   "cell_type": "code",
   "execution_count": 4,
   "metadata": {
    "vscode": {
     "languageId": "java"
    }
   },
   "outputs": [
    {
     "name": "stdout",
     "output_type": "stream",
     "text": [
      "Make: Toyota\n",
      "Model: Camry\n",
      "Year: 2019\n",
      "Price: 25000.0\n",
      "Affordable? false\n",
      "The car is an affordable car.\n"
     ]
    }
   ],
   "source": [
    "public class Car2 {\n",
    "    \n",
    "    private String make;\n",
    "    private String model;\n",
    "    private int year;\n",
    "    private double price;\n",
    "    private String result;\n",
    "    \n",
    "    // Constructor\n",
    "    public Car2(String make2, String model2, int year2, double price2) {\n",
    "        make = make2;\n",
    "        model = model2;\n",
    "        year = year2;\n",
    "        price = price2;\n",
    "        result = \"The car is an affordable car.\";\n",
    "\n",
    "    }\n",
    "    \n",
    "    // Getter methods\n",
    "    public String getMake() {\n",
    "        return make;\n",
    "    }\n",
    "    \n",
    "    public String getModel() {\n",
    "        return model;\n",
    "    }\n",
    "    \n",
    "    public int getYear() {\n",
    "        return year;\n",
    "    }\n",
    "    \n",
    "    public double getPrice() {\n",
    "        return price;\n",
    "    }\n",
    "    \n",
    "    // Method to determine if the car is affordable or not\n",
    "\n",
    "    public boolean isAffordable(double budget) {\n",
    "        if (price < budget) {\n",
    "            return true;\n",
    "        } else {\n",
    "            return false;\n",
    "        }\n",
    "    }\n",
    "   \n",
    "\n",
    "    public String classification(){\n",
    "        if(price>50000){\n",
    "            result = \"The car is a luxury car.\";\n",
    "            return result;\n",
    "        }\n",
    "        else if(price>30000){\n",
    "            result = \"The car is a mid-range car.\";\n",
    "            return result;\n",
    "        }\n",
    "        else{\n",
    "            return result;\n",
    "        }\n",
    "    }\n",
    "    \n",
    "    // Main method\n",
    "    public static void main(String[] args) {\n",
    "        // Create a new Car object\n",
    "        Car2 myCar = new Car2(\"Toyota\", \"Camry\", 2019, 25000.0);\n",
    "\n",
    "        // Print the car details\n",
    "        System.out.println(\"Make: \" + myCar.getMake());\n",
    "        System.out.println(\"Model: \" + myCar.getModel());\n",
    "        System.out.println(\"Year: \" + myCar.getYear());\n",
    "        System.out.println(\"Price: \" + myCar.getPrice());\n",
    "        // Check if the car is affordable with a budget of $20000 using an if-else statement\n",
    "        System.out.println(\"Affordable? \" + myCar.isAffordable(20000.0));\n",
    "        // Check if the car is a luxury car based on its price using if-else-if statement\n",
    "        System.out.println(myCar.classification());\n",
    "        \n",
    "    \n",
    "    }\n",
    "}\n",
    "Car2.main(null);"
   ]
  },
  {
   "cell_type": "markdown",
   "metadata": {},
   "source": [
    "## Hack 4"
   ]
  },
  {
   "cell_type": "code",
   "execution_count": 11,
   "metadata": {
    "vscode": {
     "languageId": "java"
    }
   },
   "outputs": [
    {
     "name": "stdout",
     "output_type": "stream",
     "text": [
      "Car make: \n",
      "Make is: toyota\n",
      "Car model: \n",
      "Model is: camary\n",
      "\n",
      "Car make: \n",
      "Make is: tesla\n",
      "Car model: \n",
      "Model is: X\n",
      "\n",
      "Car make: \n",
      "Make is: nissan\n",
      "Car model: \n",
      "Model is: rogue\n",
      "\n",
      "Car make: \n",
      "Make is: nissan\n",
      "Car model: \n",
      "Model is: altima\n",
      "\n",
      "Car make: \n",
      "Make is: nissan\n",
      "Car model: \n",
      "Model is: Input not valid\n",
      "\n"
     ]
    }
   ],
   "source": [
    "import java.util.Scanner; \n",
    "public class hackCar{\n",
    "    private static int car;\n",
    "\n",
    "    public hackCar(int car2){\n",
    "        car = car2;\n",
    "    }\n",
    "\n",
    "    public static void prompter(){\n",
    "        while(car>0){\n",
    "           \n",
    "            try{\n",
    "                Scanner myObj = new Scanner(System.in);  // Create a Scanner object\n",
    "                System.out.println(\"Car make: \");\n",
    "                String make = myObj.nextLine();  // Read user input\n",
    "                System.out.println(\"Make is: \" + make);  // Output user input\n",
    "\n",
    "                \n",
    "                Scanner myObj2 = new Scanner(System.in);  // Create a Scanner object\n",
    "                System.out.println(\"Car model: \");\n",
    "                String model = myObj2\n",
    "                .nextLine();  // Read user input\n",
    "                System.out.println(\"Model is: \" + model);  // Output user input\n",
    "                System.out.println();\n",
    "                car--;\n",
    "\n",
    "            }\n",
    "\n",
    "            catch(Exception e) {\n",
    "                System.out.println(\"Input not valid\");\n",
    "            }\n",
    "            \n",
    "\n",
    "\n",
    "        }\n",
    "\n",
    "    }\n",
    "\n",
    "    public static void main(String[] args){\n",
    "        hackCar a = new hackCar(5);\n",
    "        a.prompter();\n",
    "    }\n",
    "\n",
    "\n",
    "}\n",
    "\n",
    "hackCar.main(null);\n",
    "\n"
   ]
  }
 ],
 "metadata": {
  "kernelspec": {
   "display_name": "Java",
   "language": "java",
   "name": "java"
  },
  "language_info": {
   "codemirror_mode": "java",
   "file_extension": ".jshell",
   "mimetype": "text/x-java-source",
   "name": "Java",
   "pygments_lexer": "java",
   "version": "11.0.16+8-post-Ubuntu-0ubuntu120.04"
  },
  "orig_nbformat": 4
 },
 "nbformat": 4,
 "nbformat_minor": 2
}
