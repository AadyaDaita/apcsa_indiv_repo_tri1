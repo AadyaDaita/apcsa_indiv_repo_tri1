{
 "cells": [
  {
   "cell_type": "markdown",
   "metadata": {},
   "source": [
    "### Hack 1;"
   ]
  },
  {
   "cell_type": "code",
   "execution_count": null,
   "metadata": {
    "vscode": {
     "languageId": "java"
    }
   },
   "outputs": [],
   "source": [
    "public class Car {\n",
    "    public static void main(String[] args) {\n",
    "        int year = 2023;\n",
    "        double price = 30000.00;\n",
    "        boolean isElectric = true;\n",
    "        \n",
    "        System.out.println(\"Year: \" + year);\n",
    "        System.out.println(\"Price: $\" + price);\n",
    "        System.out.println(\"Is Electric: \" + isElectric);\n",
    "    }\n",
    "}"
   ]
  },
  {
   "cell_type": "code",
   "execution_count": null,
   "metadata": {
    "vscode": {
     "languageId": "java"
    }
   },
   "outputs": [],
   "source": [
    "import java.util.Scanner;\n",
    "\n",
    "public class CarPrice {\n",
    "    public static void main(String[] args) {\n",
    "        Scanner scanner = new Scanner(System.in);\n",
    "\n",
    "        System.out.print(\"Enter the price of the car: \");\n",
    "        double price = scanner.nextDouble();\n",
    "\n",
    "        System.out.println(\"The price of the car is $\" + price);\n",
    "\n",
    "        scanner.close();\n",
    "    }\n",
    "}"
   ]
  },
  {
   "cell_type": "code",
   "execution_count": 1,
   "metadata": {
    "vscode": {
     "languageId": "java"
    }
   },
   "outputs": [
    {
     "name": "stdout",
     "output_type": "stream",
     "text": [
      "Number of cars on highway: 2\n",
      "Number of cars on highway: 4\n",
      "Number of cars on highway: 6\n",
      "Number of cars on highway: 8\n",
      "Number of cars on highway: 10\n"
     ]
    }
   ],
   "source": [
    "int cars = 0; // starting number of cars\n",
    "int numCarsEntering = 2; // number of cars entering at a time\n",
    "int numIterations = 5; // number of times to loop\n",
    "\n",
    "for (int i = 0; i < numIterations; i++) {\n",
    "    cars += numCarsEntering; // use compound operator to add cars\n",
    "    System.out.println(\"Number of cars on highway: \" + cars);\n",
    "}"
   ]
  },
  {
   "cell_type": "code",
   "execution_count": 6,
   "metadata": {
    "vscode": {
     "languageId": "java"
    }
   },
   "outputs": [
    {
     "name": "stdout",
     "output_type": "stream",
     "text": [
      "wheels: 8\n",
      "wheels: 16\n",
      "wheels: 24\n",
      "wheels: 32\n",
      "wheels: 40\n",
      "total wheels: 40\n"
     ]
    }
   ],
   "source": [
    "public class Hack1 {\n",
    "    public static void main(String[] args) {\n",
    "        int cars = 0; // starting number of cars\n",
    "        int numCarsEntering = 2; // number of cars entering at a time\n",
    "        int numIterations = 5; // number of times to loop\n",
    "\n",
    "        for (int i = 0; i < numIterations; i++) {\n",
    "            cars += numCarsEntering; // use compound operator to add cars\n",
    "            //System.out.println(\"Number of cars on highway: \" + cars);\n",
    "            int wheels = cars*4; \n",
    "                System.out.println(\"wheels: \" + wheels);\n",
    "        }\n",
    "        \n",
    "        //calculate cars\n",
    "        int wheels = cars*4; \n",
    "        System.out.println(\"total wheels: \" + wheels);\n",
    "\n",
    "    }\n",
    "}\n",
    "\n",
    "Hack1.main(null);"
   ]
  },
  {
   "cell_type": "markdown",
   "metadata": {},
   "source": [
    "### Hack 2"
   ]
  },
  {
   "cell_type": "code",
   "execution_count": 13,
   "metadata": {
    "vscode": {
     "languageId": "java"
    }
   },
   "outputs": [
    {
     "name": "stdout",
     "output_type": "stream",
     "text": [
      "Make: Toyota Model: Corolla year: 2022 price: 24999.99 is it used? false\n",
      "Make: Honda Model: Accord year: 2018 price: 18999.99 is it used? true\n",
      "Make: Ford Model: Mustang year: 2020 price: 34999.99 is it used? true\n"
     ]
    }
   ],
   "source": [
    "public class Car {\n",
    "    // create constructor\n",
    "    private String make;\n",
    "    private String model;\n",
    "    private int year;\n",
    "    private double price;\n",
    "    private boolean isUsed;\n",
    "\n",
    "    public Car(String make2, String model2, int year2, double price2, boolean isUsed2){\n",
    "        make = make2;\n",
    "        model = model2;\n",
    "        year = year2;\n",
    "        price = price2;\n",
    "        isUsed = isUsed2;\n",
    "    }\n",
    "    public String printCarDetails() {\n",
    "        // method to print car details\n",
    "        String return_s = \"Make: \" + make + \" Model: \" + model + \" year: \" + year + \" price: \" + price + \" is it used? \" + isUsed;\n",
    "        return return_s;\n",
    "      }\n",
    "\n",
    "    public static void main(String[] args){\n",
    "        Car car1 = new Car(\"Toyota\", \"Corolla\", 2022, 24999.99, false);\n",
    "        Car car2 = new Car(\"Honda\", \"Accord\", 2018, 18999.99, true);\n",
    "        Car car3 = new Car(\"Ford\", \"Mustang\", 2020, 34999.99, true );\n",
    "        //ArrayList<Car> cars = new ArrayList<Car>();\n",
    "        Car[] cars = new Car[3];\n",
    "        cars[0] = car1;\n",
    "        cars[1] = car2;\n",
    "        cars[2] = car3;\n",
    "        for (int i=0; i<cars.length; i++){\n",
    "           // String car_print = cars[i].printCarDetails();\n",
    "            System.out.println(cars[i].printCarDetails());\n",
    "        }\n",
    "    }\n",
    "}\n",
    "\n",
    "Car.main(null);"
   ]
  },
  {
   "cell_type": "markdown",
   "metadata": {},
   "source": [
    "### Hack 3"
   ]
  },
  {
   "cell_type": "code",
   "execution_count": null,
   "metadata": {
    "vscode": {
     "languageId": "java"
    }
   },
   "outputs": [],
   "source": []
  }
 ],
 "metadata": {
  "kernelspec": {
   "display_name": "Java",
   "language": "java",
   "name": "java"
  },
  "language_info": {
   "codemirror_mode": "java",
   "file_extension": ".jshell",
   "mimetype": "text/x-java-source",
   "name": "Java",
   "pygments_lexer": "java",
   "version": "11.0.16+8-post-Ubuntu-0ubuntu120.04"
  },
  "orig_nbformat": 4
 },
 "nbformat": 4,
 "nbformat_minor": 2
}
