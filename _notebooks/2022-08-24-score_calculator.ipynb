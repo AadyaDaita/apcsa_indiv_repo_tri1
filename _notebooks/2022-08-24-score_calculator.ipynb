{
 "cells": [
  {
   "cell_type": "markdown",
   "metadata": {},
   "source": [
    "# Basic Primitive and Wrapper Classes Usage"
   ]
  },
  {
   "cell_type": "code",
   "execution_count": 25,
   "metadata": {
    "vscode": {
     "languageId": "java"
    }
   },
   "outputs": [
    {
     "name": "stdout",
     "output_type": "stream",
     "text": [
      "3.45\n"
     ]
    }
   ],
   "source": [
    "int a = 1;\n",
    "float b = 2.45f;\n",
    "float sum = (a + b);\n",
    "System.out.println(sum);"
   ]
  },
  {
   "cell_type": "code",
   "execution_count": 26,
   "metadata": {
    "vscode": {
     "languageId": "java"
    }
   },
   "outputs": [
    {
     "name": "stdout",
     "output_type": "stream",
     "text": [
      "aadya daita\n"
     ]
    }
   ],
   "source": [
    "String x = \"aadya\";\n",
    "String y = \"daita\";\n",
    "String name = x + \" \" + y;\n",
    "System.out.println(name);"
   ]
  },
  {
   "cell_type": "code",
   "execution_count": 27,
   "metadata": {
    "vscode": {
     "languageId": "java"
    }
   },
   "outputs": [
    {
     "name": "stdout",
     "output_type": "stream",
     "text": [
      "aadya is taking CSA\n"
     ]
    }
   ],
   "source": [
    "boolean is_taking_CSA = true;\n",
    "boolean is_taking_CSP = false;\n",
    "\n",
    "if (is_taking_CSP){\n",
    "\n",
    "    System.out.println(\"aadya is taking CSP\");\n",
    "}\n",
    "\n",
    "else if (is_taking_CSA){\n",
    "\n",
    "    System.out.println(\"aadya is taking CSA\");\n",
    "\n",
    "}"
   ]
  },
  {
   "cell_type": "markdown",
   "metadata": {},
   "source": [
    "# Score Calculator"
   ]
  },
  {
   "cell_type": "code",
   "execution_count": 51,
   "metadata": {
    "vscode": {
     "languageId": "java"
    }
   },
   "outputs": [
    {
     "name": "stdout",
     "output_type": "stream",
     "text": [
      "enter the score you got\n",
      "9.0\n",
      "enter what the score is out off\n",
      "10.0\n",
      "90.0%\n"
     ]
    }
   ],
   "source": [
    "import java.util.Scanner;\n",
    "\n",
    "    try {\n",
    "      Scanner numerator = new Scanner(System.in);  // creating a scanner object\n",
    "      System.out.println(\"enter the score you got\"); // asking the user to enter the score they got\n",
    "      float score = Integer.parseInt(numerator.nextLine());  // read user input\n",
    "      System.out.println(score);\n",
    "      \n",
    "      Scanner denominator = new Scanner(System.in);  // creating another scanner object\n",
    "      System.out.println(\"enter what the score is out off\"); \n",
    "      float out_off = Integer.parseInt(denominator.nextLine());  // read user input\n",
    "      System.out.println(out_off);\n",
    "      \n",
    "      float temp_score = (score / out_off);\n",
    "      float final_score = temp_score * 100f;\n",
    "      System.out.println(final_score + \"%\");  // print the percentage\n",
    "      \n",
    "    } catch (Exception e) {\n",
    "      //TODO: handle exception\n",
    "    }    \n",
    " "
   ]
  }
 ],
 "metadata": {
  "kernelspec": {
   "display_name": "Java",
   "language": "java",
   "name": "java"
  },
  "language_info": {
   "codemirror_mode": "java",
   "file_extension": ".jshell",
   "mimetype": "text/x-java-source",
   "name": "Java",
   "pygments_lexer": "java",
   "version": "11.0.16+8-post-Ubuntu-0ubuntu120.04"
  },
  "orig_nbformat": 4,
  "vscode": {
   "interpreter": {
    "hash": "916dbcbb3f70747c44a77c7bcd40155683ae19c65e1c03b4aa3499c5328201f1"
   }
  }
 },
 "nbformat": 4,
 "nbformat_minor": 2
}
