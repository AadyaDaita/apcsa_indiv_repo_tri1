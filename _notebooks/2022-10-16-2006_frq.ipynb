{
 "cells": [
  {
   "cell_type": "markdown",
   "metadata": {},
   "source": [
    "# 2006 FRQ"
   ]
  },
  {
   "cell_type": "markdown",
   "metadata": {},
   "source": [
    "## 2a"
   ]
  },
  {
   "cell_type": "code",
   "execution_count": null,
   "metadata": {
    "vscode": {
     "languageId": "java"
    }
   },
   "outputs": [],
   "source": [
    "public double purchasePrice(){\n",
    "    double purchasePrice;\n",
    "    rate = 1 + taxRate;\n",
    "    purchasePrice = getListPrice * rate;\n",
    "    return purchasePrice;\n",
    "}"
   ]
  },
  {
   "cell_type": "markdown",
   "metadata": {},
   "source": [
    "## 3a"
   ]
  },
  {
   "cell_type": "code",
   "execution_count": null,
   "metadata": {
    "vscode": {
     "languageId": "java"
    }
   },
   "outputs": [],
   "source": [
    "public int compareCustomer(Customer other){\n",
    "\n",
    "    String person1_name = this.getName();\n",
    "    Integer person1_id = this.getID();\n",
    "\n",
    "    String person2_name = other.getName();\n",
    "    Integer person2_id = other.getID();\n",
    "    \n",
    "    String[] names = {person1_name, person2_name};\n",
    "    String[] ids = {person1_id, person2_id};\n",
    "\n",
    "    Arrays.sort(names);\n",
    "    Arrays.sort(ids);\n",
    "   \n",
    "\n",
    "    if (names[0] == names[1]){\n",
    "        return 0\n",
    "\n",
    "\n",
    "    }\n",
    "\n",
    "\n",
    "    if (names[0] == person1_name){\n",
    "        return -1\n",
    "\n",
    "    }\n",
    "\n",
    "    if (names[1] == person1_name){\n",
    "        return 1\n",
    "\n",
    "    }\n",
    "\n",
    "\n",
    "}"
   ]
  },
  {
   "cell_type": "code",
   "execution_count": null,
   "metadata": {
    "vscode": {
     "languageId": "java"
    }
   },
   "outputs": [],
   "source": [
    "System.out.println(stringCompare(\"hi\", \"hello\"));"
   ]
  }
 ],
 "metadata": {
  "kernelspec": {
   "display_name": "Java",
   "language": "java",
   "name": "java"
  },
  "language_info": {
   "codemirror_mode": "java",
   "file_extension": ".jshell",
   "mimetype": "text/x-java-source",
   "name": "Java",
   "pygments_lexer": "java",
   "version": "11.0.16+8-post-Ubuntu-0ubuntu120.04"
  },
  "orig_nbformat": 4
 },
 "nbformat": 4,
 "nbformat_minor": 2
}
