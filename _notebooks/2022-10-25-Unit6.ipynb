{
 "cells": [
  {
   "cell_type": "markdown",
   "metadata": {},
   "source": [
    "# Unit 6 Application FRQ"
   ]
  },
  {
   "cell_type": "code",
   "execution_count": 4,
   "metadata": {
    "vscode": {
     "languageId": "java"
    }
   },
   "outputs": [
    {
     "name": "stdout",
     "output_type": "stream",
     "text": [
      "swapping the first and last elemnt\n",
      "90\n",
      "1\n",
      "2\n",
      "3\n",
      "7\n",
      "8\n",
      "3\n",
      "26\n",
      "73\n",
      "26\n",
      "75\n",
      "0\n",
      "replacing elements with 0\n",
      "0\n",
      "1\n",
      "0\n",
      "3\n",
      "7\n",
      "0\n",
      "3\n",
      "0\n",
      "73\n",
      "0\n",
      "75\n",
      "0\n"
     ]
    }
   ],
   "source": [
    "public class ArrayMethods {\n",
    "   private int[] values = {0, 1, 2, 3, 7, 8, 3, 26, 73, 26, 75, 90};\n",
    "\n",
    "   public void printElements(){\n",
    "       for(int i = 0; i < values.length; i++){\n",
    "           System.out.println(values[i]);\n",
    "       }\n",
    "   }\n",
    "\n",
    "   public void swapElements(){\n",
    "       int last = values[values.length-1];\n",
    "       values[values.length-1] = values[0];\n",
    "       values[0] = last;\n",
    "   }\n",
    "\n",
    "   public void evenToZero(){\n",
    "       for(int i = 0; i < values.length; i++){\n",
    "           if (values[i] % 2 == 0){\n",
    "               values[i] = 0;\n",
    "           }\n",
    "       }\n",
    "   }\n",
    "\n",
    "   public static void main(String[] args){\n",
    "       \n",
    "       System.out.println(\"swapping the first and last elemnt\");\n",
    "       ArrayMethods swapElements = new ArrayMethods();\n",
    "       swapElements.swapElements();\n",
    "       swapElements.printElements();\n",
    "\n",
    "       System.out.println(\"replacing elements with 0\");\n",
    "       ArrayMethods evenToZero = new ArrayMethods();\n",
    "       swapElements.evenToZero();\n",
    "       swapElements.printElements();\n",
    "   }\n",
    "}\n",
    "ArrayMethods.main(null);"
   ]
  }
 ],
 "metadata": {
  "kernelspec": {
   "display_name": "Java",
   "language": "java",
   "name": "java"
  },
  "language_info": {
   "codemirror_mode": "java",
   "file_extension": ".jshell",
   "mimetype": "text/x-java-source",
   "name": "Java",
   "pygments_lexer": "java",
   "version": "11.0.16+8-post-Ubuntu-0ubuntu120.04"
  },
  "orig_nbformat": 4
 },
 "nbformat": 4,
 "nbformat_minor": 2
}
