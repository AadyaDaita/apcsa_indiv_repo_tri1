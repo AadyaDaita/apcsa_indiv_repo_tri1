{
 "cells": [
  {
   "cell_type": "markdown",
   "metadata": {},
   "source": [
    "# Unit 5 Application FRQ"
   ]
  },
  {
   "cell_type": "code",
   "execution_count": 10,
   "metadata": {},
   "outputs": [
    {
     "ename": "CompilationException",
     "evalue": "",
     "output_type": "error",
     "traceback": [
      "\u001b[1m\u001b[30m|   \u001b[1m\u001b[30m     public int\u001b[0m\u001b[1m\u001b[30m\u001b[41m\u001b[0m\u001b[1m\u001b[30m void swap(){\u001b[0m",
      "\u001b[1m\u001b[31m<identifier> expected\u001b[0m",
      ""
     ]
    }
   ],
   "source": [
    "public class ArrayMethods {\n",
    "    private int[] values = {1,2,3,4,5,6,7,8,9,10};\n",
    "\n",
    "     public int void swap(){\n",
    "        int first;\n",
    "        int last;\n",
    "        int length = (values.length - 1);\n",
    "        first = values[0];\n",
    "        last = values[length];\n",
    "\n",
    "        values[0] = last;\n",
    "        values[length] = first;\n",
    "\n",
    "     }\n",
    "\n",
    "}\n",
    "\n",
    "ArrayMethods.swap(null);"
   ]
  }
 ],
 "metadata": {
  "kernelspec": {
   "display_name": "Java",
   "language": "java",
   "name": "java"
  },
  "language_info": {
   "codemirror_mode": "java",
   "file_extension": ".jshell",
   "mimetype": "text/x-java-source",
   "name": "java",
   "pygments_lexer": "java",
   "version": "11.0.16+8-post-Ubuntu-0ubuntu120.04"
  },
  "orig_nbformat": 4
 },
 "nbformat": 4,
 "nbformat_minor": 2
}
