{
 "cells": [
  {
   "cell_type": "markdown",
   "metadata": {},
   "source": [
    "# 2019 FRQ 4"
   ]
  },
  {
   "cell_type": "markdown",
   "metadata": {},
   "source": [
    "In this case we need to create the matrix and randomly fill it with true and false values so that each cell has a 40% probability of being true."
   ]
  },
  {
   "cell_type": "code",
   "execution_count": null,
   "metadata": {},
   "outputs": [],
   "source": [
    "public LightBoard(int numRows, int numCols) {\n",
    "    lights = new boolean[numRows][numCols];\n",
    "    for (int r=0; r<numRows; r++) {\n",
    "        for (int c=0; c<numCols; c++) {\n",
    "            lights[r][c] = Math.random() < 0.4;\n",
    "    }\n",
    "}\n",
    "}"
   ]
  },
  {
   "cell_type": "markdown",
   "metadata": {},
   "source": [
    "The first line instantiates and sizes lights to numRows rows and numCols columns. Going off of previous problems, I assume that many students forgot this line. If it’s not there lights would be null.\n",
    "\n",
    "Next the code iterates through each cell in the matrix and uses Math.random to take care of the 40% probability."
   ]
  },
  {
   "cell_type": "code",
   "execution_count": null,
   "metadata": {},
   "outputs": [],
   "source": [
    "public boolean evaluateLight(int row, int col) {\n",
    "    int onInCol = 0;\n",
    "    for (int r=0; r<lights.length; r++) {\n",
    "        if (lights[r][col]) {\n",
    "            onInCol++;\n",
    "        }\n",
    "    }\n",
    "    if (lights[row][col] && onInCol % 2 == 0) {\n",
    "        return false;\n",
    "    } else if (!lights[row][col] && onInCol % 3 == 0) {\n",
    "        return true;\n",
    "    } else {\n",
    "        return lights[row][col];\n",
    "    }\n",
    "}"
   ]
  },
  {
   "cell_type": "markdown",
   "metadata": {},
   "source": [
    "Since we’ll need the number of on lights in col several times it’s best to go ahead and calculate that first. I did that and stored it in the onInCol variable.\n",
    "\n",
    "With that we can now build a set of if statements that takes care of returning the right value based on the conditions above."
   ]
  }
 ],
 "metadata": {
  "kernelspec": {
   "display_name": "Java",
   "language": "java",
   "name": "java"
  },
  "language_info": {
   "name": "java",
   "version": "3.8.10"
  },
  "orig_nbformat": 4,
  "vscode": {
   "interpreter": {
    "hash": "916dbcbb3f70747c44a77c7bcd40155683ae19c65e1c03b4aa3499c5328201f1"
   }
  }
 },
 "nbformat": 4,
 "nbformat_minor": 2
}
