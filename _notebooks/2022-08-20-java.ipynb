{
 "cells": [
  {
   "cell_type": "markdown",
   "metadata": {},
   "source": [
    "# Java Usage"
   ]
  },
  {
   "cell_type": "code",
   "execution_count": 1,
   "metadata": {},
   "outputs": [
    {
     "name": "stdout",
     "output_type": "stream",
     "text": [
      "hello\n"
     ]
    }
   ],
   "source": [
    "class Worldcup { //superclass\n",
    "    int wins = 0;        \n",
    "    int losses = 0;                   \n",
    "    boolean popular = true;\n",
    "    String jersey_color = \"blue\";\n",
    "\n",
    "    public Worldcup(int wins, int losses, boolean popular, String jersey_color){\n",
    "        this.wins = wins;\n",
    "        this.losses = losses;\n",
    "        this.popular = popular;\n",
    "        this.jersey_color = jersey_color;\n",
    "    }\n",
    "\n",
    "    public String toString(){\n",
    "        return \"Wins: \" + this.wins + \", Losses: \" + this.losses + \", Popular?: \" + this.popular + \", Jersey Color: \" + this.jersey_color;\n",
    "    }\n",
    "\n",
    "  }\n",
    "  \n",
    "public class Argentina extends Worldcup{\n",
    "public Argentina(int wins, int losses, boolean popular, String jersey_color){\n",
    "    super(wins, losses, popular, jersey_color); // superclass constructor\n",
    "}\n",
    "public static void main(String[] args) {\n",
    "    Argentina argentina_obj = new Argentina(3,1,true,\"blue\");\n",
    "    System.out.println(argentina_obj);\n",
    "}\n",
    "}\n",
    "\n",
    "\n",
    "public class Brazil extends Worldcup{\n",
    "    public Brazil(int wins, int losses, boolean popular, String jersey_color){\n",
    "        super(wins, losses, popular, jersey_color); // superclass constructor\n",
    "    }\n",
    "    public static void main(String[] args) {\n",
    "        Brazil brazil = new Brazil(7,9,true,\"yellow\");\n",
    "        System.out.println(brazil);\n",
    "    }\n",
    "    }\n",
    "\n",
    "public class Morroco extends Worldcup{\n",
    "    public Morroco(int wins, int losses, boolean popular, String jersey_color){\n",
    "        super(wins, losses, popular, jersey_color); // superclass constructor\n",
    "    }\n",
    "    public static void main(String[] args) {\n",
    "        Morroco Morroco = new Morroco(2,0,false,\"orange\");\n",
    "        System.out.println(Morroco);\n",
    "    }\n",
    "    }\n",
    "\n",
    "\n",
    "public class France extends Worldcup{\n",
    "    public France(int wins, int losses, boolean popular, String jersey_color){\n",
    "        super(wins, losses, popular, jersey_color); // superclass constructor\n",
    "    }\n",
    "    public static void main(String[] args) {\n",
    "        France France = new France(0,10,true,\"red\");\n",
    "        System.out.println(France);\n",
    "    }\n",
    "    }\n",
    "\n",
    "\n",
    "public class Croatia extends Worldcup{\n",
    "    public Croatia(int wins, int losses, boolean popular, String jersey_color){\n",
    "        super(wins, losses, popular, jersey_color); // superclass constructor\n",
    "    }\n",
    "    public static void main(String[] args) {\n",
    "        Croatia Croatia = new Croatia(90,0,false,\"dark blue\");\n",
    "        System.out.println(Croatia);\n",
    "    }\n",
    "    }\n",
    "\n",
    "\n",
    "  Argentina.main(null);\n",
    "  Brazil.main(null);\n",
    "  Morroco.main(null);\n",
    "  France.main(null);\n",
    "  Croatia.main(null);"
   ]
  }
 ],
 "metadata": {
  "kernelspec": {
   "display_name": "Java",
   "language": "java",
   "name": "java"
  },
  "language_info": {
   "codemirror_mode": "java",
   "file_extension": ".jshell",
   "mimetype": "text/x-java-source",
   "name": "java",
   "pygments_lexer": "java",
   "version": "11.0.16+8-post-Ubuntu-0ubuntu120.04"
  },
  "orig_nbformat": 4,
  "vscode": {
   "interpreter": {
    "hash": "916dbcbb3f70747c44a77c7bcd40155683ae19c65e1c03b4aa3499c5328201f1"
   }
  }
 },
 "nbformat": 4,
 "nbformat_minor": 2
}
