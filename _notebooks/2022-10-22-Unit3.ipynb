{
 "cells": [
  {
   "cell_type": "markdown",
   "metadata": {},
   "source": [
    "# Unit 3 Application - 2009 3B"
   ]
  },
  {
   "cell_type": "code",
   "execution_count": null,
   "metadata": {},
   "outputs": [],
   "source": [
    "int[] rateTable;\n",
    "public int getChargingCost(int chargeTime){\n",
    "    int minimum_cost = 0;\n",
    "    int start_time = 0;\n",
    "    \n",
    "    for (int hour=0; hour<24; hour++)\n",
    "    {\n",
    "        int total_rate = 0;\n",
    "        int curr_hour = hour;\n",
    "        for (int i=0; i < chargeTime; i++){\n",
    "\n",
    "            if( (curr_hour + i) > 23)\n",
    "            {\n",
    "                curr_hour = 0;\n",
    "                chargeTime -= i;\n",
    "                i = 0;\n",
    "            }\n",
    "            total_rate += rateTable[curr_hour + i];\n",
    "        }\n",
    "\n",
    "        if( (minimum_cost == 0) || (total_rate < minimum_cost) )\n",
    "        {\n",
    "            minimum_cost = total_rate;\n",
    "            start_time = hour;\n",
    "        }\n",
    "}\n",
    "\n",
    "return start_time;\n",
    "\n",
    "}"
   ]
  },
  {
   "cell_type": "markdown",
   "metadata": {},
   "source": [
    "# 2017 FRQ 1B"
   ]
  },
  {
   "cell_type": "code",
   "execution_count": null,
   "metadata": {},
   "outputs": [],
   "source": [
    "public class Digits {\n",
    "\n",
    "    private ArrayList<Integer> digitList;\n",
    "    Integer maximum = digitList[0];\n",
    "    Integer counter = 0;\n",
    "    public boolean isStrictlyIncreasing() {\n",
    "        for (int i=1; i < len(digitList[]); i++){\n",
    "            if (maximum < digitList[i]){\n",
    "                maximum = digitList[i];\n",
    "                counter = counter +1;\n",
    "            }\n",
    "            else{\n",
    "                return false;\n",
    "            }\n",
    "\n",
    "        } \n",
    "        return true;\n",
    "\n",
    "    }\n",
    "\n",
    " } \n"
   ]
  },
  {
   "cell_type": "markdown",
   "metadata": {},
   "source": [
    "# 2019 FRQ 3B"
   ]
  },
  {
   "cell_type": "code",
   "execution_count": null,
   "metadata": {},
   "outputs": [],
   "source": [
    "public boolean isBalanced(ArrayList<String> delimiters) {\n",
    "    int open = 0;\n",
    "    int close = 0;\n",
    "    for (String d: delimiters) {\n",
    "        if (d.equals(openDel)) {\n",
    "            open++;\n",
    "        } else if (d.equals(closeDel)) {\n",
    "            close++;\n",
    "        }\n",
    "\n",
    "        if (close > open) return false; \n",
    "    }\n",
    "    return open == close; \n",
    "}"
   ]
  }
 ],
 "metadata": {
  "kernelspec": {
   "display_name": "Java",
   "language": "java",
   "name": "java"
  },
  "language_info": {
   "codemirror_mode": "java",
   "file_extension": ".jshell",
   "mimetype": "text/x-java-source",
   "name": "java",
   "pygments_lexer": "java",
   "version": "11.0.16+8-post-Ubuntu-0ubuntu120.04"
  },
  "orig_nbformat": 4
 },
 "nbformat": 4,
 "nbformat_minor": 2
}
