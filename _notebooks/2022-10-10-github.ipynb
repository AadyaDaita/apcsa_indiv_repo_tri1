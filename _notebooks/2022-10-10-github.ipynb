{
 "cells": [
  {
   "cell_type": "markdown",
   "metadata": {},
   "source": [
    "# GitHub "
   ]
  },
  {
   "cell_type": "markdown",
   "metadata": {},
   "source": [
    "- The main repository for our project is the BASE SPRING\n",
    "- we have made different branches, and each week, each person pushes into the branch. \n",
    "- for different technicals until they are ready to be pushed to the main branch\n",
    "- We already use issues as part of our development process, and during our team reviews\n",
    "- We have been using pull requests "
   ]
  }
 ],
 "metadata": {
  "language_info": {
   "name": "python"
  },
  "orig_nbformat": 4
 },
 "nbformat": 4,
 "nbformat_minor": 2
}
