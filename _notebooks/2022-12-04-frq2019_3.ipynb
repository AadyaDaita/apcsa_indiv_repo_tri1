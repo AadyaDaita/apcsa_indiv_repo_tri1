{
 "cells": [
  {
   "cell_type": "markdown",
   "metadata": {},
   "source": [
    "# FRQ College Board 2019 #3"
   ]
  },
  {
   "cell_type": "markdown",
   "metadata": {},
   "source": [
    "In Part A we’re implementing a method that goes through an array of tokens and adds the delimiters it finds into an ArrayList.\n",
    "\n",
    "For example, in the string ( x + y ) = ( y + x ) , and assuming that openDel.equals(\"(\") and closeDel.equals(\")\") , it should return the list [\"(\", \")\", \"(\", \")\"]."
   ]
  },
  {
   "cell_type": "code",
   "execution_count": null,
   "metadata": {},
   "outputs": [],
   "source": [
    "public ArrayList<String> getDelimitersList(String[] tokens) {\n",
    "\tArrayList<String> out = new ArrayList<>();\n",
    "\tfor (String t: tokens) {\n",
    "\t\tif (t.equals(openDel) || t.equals(closeDel))\n",
    "\t\t\tout.add(t); \n",
    "\t}\n",
    "\treturn out; \n",
    "}"
   ]
  },
  {
   "cell_type": "markdown",
   "metadata": {},
   "source": [
    "What I did was to iterate through tokens and every time it finds a matching open or closing delimiter it adds it onto the end of out and then returns out at the end."
   ]
  },
  {
   "cell_type": "markdown",
   "metadata": {},
   "source": [
    "A statement is considered balanced if\n",
    "\n",
    "At no point going through the ArrayList have we found more closing delimiters than opening delimiters\n",
    "There are the same number of opening and closing delimiters in the list"
   ]
  },
  {
   "cell_type": "code",
   "execution_count": null,
   "metadata": {},
   "outputs": [],
   "source": [
    "public boolean isBalanced(ArrayList<String> delimiters) {\n",
    "    int open = 0;\n",
    "    int close = 0;\n",
    "    for (String d: delimiters) {\n",
    "        if (d.equals(openDel)) {\n",
    "            open++;\n",
    "        } else if (d.equals(closeDel)) {\n",
    "            close++;\n",
    "        }\n",
    "\n",
    "        if (close > open) return false; \n",
    "    }\n",
    "    return open == close; \n",
    "}"
   ]
  },
  {
   "cell_type": "markdown",
   "metadata": {},
   "source": [
    "What I did was to iterate through and count the number of opening and closing delimiters as it goes. If, at any point in the iteration it finds that the code has counted more closing delimiters than opening delimiters it returns false because it has failed the first condition.\n",
    "\n",
    "At the end it returns true if the two counts match or false if not."
   ]
  }
 ],
 "metadata": {
  "kernelspec": {
   "display_name": "Java",
   "language": "java",
   "name": "java"
  },
  "language_info": {
   "name": "java"
  },
  "orig_nbformat": 4
 },
 "nbformat": 4,
 "nbformat_minor": 2
}
