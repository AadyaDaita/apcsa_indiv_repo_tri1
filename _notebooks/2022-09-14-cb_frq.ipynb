{
 "cells": [
  {
   "cell_type": "markdown",
   "metadata": {},
   "source": [
    "# 2019 APCSA FRQ Question 1"
   ]
  },
  {
   "cell_type": "markdown",
   "metadata": {},
   "source": [
    "Write the static method numberOfLeapYears, which returns the number of leap years between\n",
    "year1 and year2, inclusive.\n",
    "In order to calculate this value, a helper method is provided for you.\n",
    "• isLeapYear(year) returns true if year is a leap year and false otherwise.\n",
    "Complete method numberOfLeapYears below. You must use isLeapYear appropriately to\n",
    "receive full credit.\n",
    "/** Returns the number of leap years between year1 and year2, inclusive.\n",
    " * Precondition: 0 <= year1 <= year2\n",
    " */\n",
    " public static int numberOfLeapYears(int year1, int year2) "
   ]
  },
  {
   "cell_type": "code",
   "execution_count": null,
   "metadata": {},
   "outputs": [],
   "source": [
    "public class AP_calender {\n",
    "    // return true if year is a leap year, aand false if not\n",
    "    public static void isLeapYear(year){\n",
    "        if (year == 366){\n",
    "            return true;\n",
    "        }\n",
    "    }\n",
    "    public static int numberOfLeapYears(int year1, int year2) {\n",
    "        int diff = year2 - year1;\n",
    "        int counter = 0;\n",
    "        for (int i = 0; i < diff; i++) {\n",
    "            if (isLeapYear(i)){\n",
    "                counter = counter + 1;\n",
    "            }\n",
    "          }\n",
    "\n",
    "    }\n",
    "\n",
    "\n",
    "}"
   ]
  },
  {
   "cell_type": "markdown",
   "metadata": {},
   "source": [
    "Write the static method dayOfWeek, which returns the integer value representing the day of the week for\n",
    "the given date (month, day, year), where 0 denotes Sunday, 1 denotes Monday, ..., and 6\n",
    "denotes Saturday. For example, 2019 began on a Tuesday, and January 5 is the fifth day of 2019. As a result,\n",
    "January 5, 2019, fell on a Saturday, and the method call dayOfWeek(1, 5, 2019)\n",
    "returns 6.\n",
    "As another example, January 10 is the tenth day of 2019. As a result, January 10, 2019, fell on a Thursday,\n",
    "and the method call dayOfWeek(1, 10, 2019) returns 4.\n",
    "In order to calculate this value, two helper methods are provided for you.\n",
    "• firstDayOfYear(year) returns the integer value representing the day of the week for the first\n",
    "day of year, where 0 denotes Sunday, 1 denotes Monday, ..., and 6 denotes Saturday. For\n",
    "example, since 2019 began on a Tuesday, firstDayOfYear(2019) returns 2.\n",
    "• dayOfYear(month, day, year) returns n, where month, day, and year specify the\n",
    "nth day of the year. For the first day of the year, January 1 (month = 1, day = 1), the value\n",
    "1 is returned. This method accounts for whether year is a leap year. For example,\n",
    "dayOfYear(3, 1, 2017) returns 60, since 2017 is not a leap year, while\n",
    "dayOfYear(3, 1, 2016) returns 61, since 2016 is a leap year. "
   ]
  },
  {
   "cell_type": "code",
   "execution_count": null,
   "metadata": {},
   "outputs": [],
   "source": [
    "public static int dayOfWeek(int month, int day, int year){\n",
    "    int startDay = firstDayOfYear(year);\n",
    "    int nthDay = dayOfYear(month, day, year);\n",
    "    int returnDay = (startDay + nthDay - 1) % 7;\n",
    "    // do MOD 7 because there are 7 days in the week, and we add the remainder\n",
    "    return returnDay;\n",
    "}"
   ]
  }
 ],
 "metadata": {
  "kernelspec": {
   "display_name": "Java",
   "language": "java",
   "name": "java"
  },
  "language_info": {
   "name": "java"
  },
  "orig_nbformat": 4
 },
 "nbformat": 4,
 "nbformat_minor": 2
}
