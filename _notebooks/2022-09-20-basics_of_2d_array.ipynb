{
 "cells": [
  {
   "cell_type": "markdown",
   "metadata": {},
   "source": [
    "# Basics of a 2D Array"
   ]
  },
  {
   "cell_type": "code",
   "execution_count": 3,
   "metadata": {
    "vscode": {
     "languageId": "java"
    }
   },
   "outputs": [],
   "source": [
    "int[][] intArray;\n",
    "double[][] doubleArray;\n",
    "String[][] stringArray;\n",
    "boolean[][] booleanArray;\n",
    "\n",
    "// creating a 2D array with different data types"
   ]
  },
  {
   "cell_type": "markdown",
   "metadata": {},
   "source": [
    "<img src=\"https://github.com/AadyaDaita/apcsa_indiv_repo_tri1/blob/master/images/two-d.png?raw=true\">"
   ]
  },
  {
   "cell_type": "code",
   "execution_count": 28,
   "metadata": {
    "vscode": {
     "languageId": "java"
    }
   },
   "outputs": [
    {
     "name": "stdout",
     "output_type": "stream",
     "text": [
      "arr[0][0] = 1\n"
     ]
    }
   ],
   "source": [
    "int[][] arr = { { 1, 2 }, { 3, 4 }, \n",
    "                { 5, 6 }, { 7, 8 }};\n",
    " \n",
    "System.out.println(\"arr[0][0] = \" + arr[0][0]);"
   ]
  },
  {
   "cell_type": "markdown",
   "metadata": {},
   "source": [
    "## Looping through Horizontally vs. Vertically"
   ]
  },
  {
   "cell_type": "code",
   "execution_count": 9,
   "metadata": {
    "vscode": {
     "languageId": "java"
    }
   },
   "outputs": [
    {
     "name": "stdout",
     "output_type": "stream",
     "text": [
      "row count:4\n",
      "1 2 3 4 5 6 7 8 1\n",
      "2\n",
      "3\n",
      "4\n",
      "5\n",
      "6\n",
      "7\n",
      "8\n"
     ]
    }
   ],
   "source": [
    "System.out.println(\"row count:\" + arr.length);\n",
    " \n",
    "for (int i = 0; i < arr.length; i++)\n",
    "{\n",
    "    // Loop through all elements of current ROW\n",
    "    for (int j = 0; j < arr[i].length; j++)\n",
    "        System.out.print(arr[i][j] + \" \");\n",
    "}\n",
    "\n",
    "\n",
    "\n",
    "\n",
    "for (int i = 0; i<4; i++) {\n",
    "    for (int j = 0; j<2; j++){\n",
    "    System.out.println(arr[i][j]);\n",
    "    }\n",
    "}"
   ]
  }
 ],
 "metadata": {
  "kernelspec": {
   "display_name": "Java",
   "language": "java",
   "name": "java"
  },
  "language_info": {
   "codemirror_mode": "java",
   "file_extension": ".jshell",
   "mimetype": "text/x-java-source",
   "name": "Java",
   "pygments_lexer": "java",
   "version": "11.0.16+8-post-Ubuntu-0ubuntu120.04"
  },
  "orig_nbformat": 4
 },
 "nbformat": 4,
 "nbformat_minor": 2
}
