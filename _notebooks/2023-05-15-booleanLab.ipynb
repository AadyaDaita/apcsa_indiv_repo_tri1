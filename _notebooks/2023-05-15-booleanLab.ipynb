{
 "cells": [
  {
   "attachments": {},
   "cell_type": "markdown",
   "metadata": {},
   "source": [
    "# Putting all the 10X and 4X files together"
   ]
  },
  {
   "cell_type": "code",
   "execution_count": 37,
   "metadata": {},
   "outputs": [],
   "source": [
    "# import required module\n",
    "import os\n",
    "import shutil\n",
    "import pandas\n",
    "\n",
    "\n",
    "directory = 'Inflamed'\n",
    "for filename in os.listdir(directory):\n",
    "\n",
    "    f = os.path.join(directory, filename)\n",
    "    # checking if it is a file\n",
    "    if len(f) >30:\n",
    "        new_folder = f[10:29]\n",
    "        new_dir = directory + \"/../\" + new_folder\n",
    "        isExist = os.path.exists(new_dir)\n",
    "        if not isExist:\n",
    "            os.makedirs(new_dir)\n",
    "\n",
    "        for cur_file in os.listdir(directory):\n",
    "            fut = os.path.join(directory, cur_file)\n",
    "            if os.path.isdir(fut):\n",
    "                continue\n",
    "            fut_name = fut[10:29]\n",
    "            if (fut_name == new_folder):\n",
    "                shutil.move(fut, new_dir)\n"
   ]
  },
  {
   "attachments": {},
   "cell_type": "markdown",
   "metadata": {},
   "source": [
    "# Organizing the 10x, 20x, 4x and 40x files"
   ]
  },
  {
   "cell_type": "code",
   "execution_count": 2,
   "metadata": {},
   "outputs": [],
   "source": [
    "# import required module\n",
    "import os\n",
    "import shutil\n",
    "import pandas\n",
    "\n",
    "new_dir = 'Inflamed_10x'\n",
    "directory = 'InflamedFinal'\n",
    "isExist = os.path.exists(new_dir)\n",
    "if not isExist:\n",
    "    os.makedirs(new_dir)\n",
    "for filename in os.listdir(directory):\n",
    "    f = os.path.join(directory, filename)\n",
    "    if f.find(\"10X\") < 0:\n",
    "        continue\n",
    "    shutil.move(f, new_dir)\n",
    "            \n",
    "\n",
    "\n",
    "\n"
   ]
  },
  {
   "cell_type": "code",
   "execution_count": 4,
   "metadata": {},
   "outputs": [],
   "source": [
    "# import required module\n",
    "import os\n",
    "import shutil\n",
    "import pandas\n",
    "\n",
    "new_dir = 'Inflamed_20x'\n",
    "directory = 'InflamedFinal'\n",
    "isExist = os.path.exists(new_dir)\n",
    "if not isExist:\n",
    "    os.makedirs(new_dir)\n",
    "for filename in os.listdir(directory):\n",
    "    f = os.path.join(directory, filename)\n",
    "    if f.find(\"20X\") < 0:\n",
    "        continue\n",
    "    shutil.move(f, new_dir)\n"
   ]
  },
  {
   "cell_type": "code",
   "execution_count": 6,
   "metadata": {},
   "outputs": [],
   "source": [
    "# import required module\n",
    "import os\n",
    "import shutil\n",
    "import pandas\n",
    "\n",
    "new_dir = 'Inflamed_4x'\n",
    "directory = 'InflamedFinal'\n",
    "isExist = os.path.exists(new_dir)\n",
    "if not isExist:\n",
    "    os.makedirs(new_dir)\n",
    "for filename in os.listdir(directory):\n",
    "    f = os.path.join(directory, filename)\n",
    "    if f.find(\"4X\")<0:\n",
    "        continue\n",
    "    shutil.move(f, new_dir)\n"
   ]
  },
  {
   "cell_type": "code",
   "execution_count": 7,
   "metadata": {},
   "outputs": [],
   "source": [
    "# import required module\n",
    "import os\n",
    "import shutil\n",
    "import pandas\n",
    "\n",
    "new_dir = 'Inflamed_40x'\n",
    "directory = 'InflamedFinal'\n",
    "isExist = os.path.exists(new_dir)\n",
    "if not isExist:\n",
    "    os.makedirs(new_dir)\n",
    "for filename in os.listdir(directory):\n",
    "    f = os.path.join(directory, filename)\n",
    "    if f.find(\"40x\") < 0:\n",
    "        continue\n",
    "    shutil.move(f, new_dir)\n"
   ]
  },
  {
   "cell_type": "code",
   "execution_count": 15,
   "metadata": {},
   "outputs": [
    {
     "name": "stdout",
     "output_type": "stream",
     "text": [
      "1\n",
      "13\n",
      "2\n"
     ]
    }
   ],
   "source": [
    "import os\n",
    "import shutil\n",
    "import pandas\n",
    "import csv\n",
    "\n",
    "\"\"\"\n",
    "new_dir = 'Inflamed_10x'\n",
    "directory = 'Cohort2_InflamedFinal'\n",
    "isExist = os.path.exists(new_dir)\n",
    "if not isExist:\n",
    "    os.makedirs(new_dir)\n",
    "for filename in os.listdir(directory):\n",
    "    f = os.path.join(directory, filename)\n",
    "    if f.find(\"10X\") < 0:\n",
    "        continue\n",
    "    shutil.move(f, new_dir)\n",
    "\n",
    "\"\"\"\n",
    "directory = 'Cohort2_InflamedFinal'\n",
    "\n",
    "\n",
    "   \n",
    "with open('csv_data.csv', newline='') as csvfile:\n",
    "    csv_data = csv.reader(csvfile)\n",
    "    col_cnt = len(next(csv_data))\n",
    "    for filename in os.listdir(directory):\n",
    "        csvfile.seek(0)\n",
    "        # f = os.path.join(directory, filename)\n",
    "        if len(filename) == 5:\n",
    "            f = filename[0:1]\n",
    "        if len(filename) == 6:\n",
    "            f = filename[0:2]\n",
    "        if len(filename) == 7:\n",
    "            f = filename[0:3]\n",
    "        for csv_row in csv_data:\n",
    "            #for csv_col_idx in range(0, col_cnt):\n",
    "            #  print(csv_col_idx, csv_row[csv_col_idx])\n",
    "            if (csv_row[3] == f):\n",
    "                print(csv_row[3])\n",
    "                # rename the file\n",
    "                break\n",
    "    \n",
    "      \n",
    "\n",
    "                \n",
    "                    \n",
    "            \n",
    "        \n"
   ]
  },
  {
   "attachments": {},
   "cell_type": "markdown",
   "metadata": {},
   "source": []
  }
 ],
 "metadata": {
  "kernelspec": {
   "display_name": "Python 3.10.11 64-bit (windows store)",
   "language": "python",
   "name": "python3"
  },
  "language_info": {
   "codemirror_mode": {
    "name": "ipython",
    "version": 3
   },
   "file_extension": ".py",
   "mimetype": "text/x-python",
   "name": "python",
   "nbconvert_exporter": "python",
   "pygments_lexer": "ipython3",
   "version": "3.10.11"
  },
  "orig_nbformat": 4,
  "vscode": {
   "interpreter": {
    "hash": "3b7e9cb8e453d6cda0fe8c8dd13f891a1f09162f0e7c66ffeae7751a7aecf00d"
   }
  }
 },
 "nbformat": 4,
 "nbformat_minor": 2
}
