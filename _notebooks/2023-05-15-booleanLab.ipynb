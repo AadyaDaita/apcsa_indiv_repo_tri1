{
 "cells": [
  {
   "cell_type": "code",
   "execution_count": 1,
   "metadata": {},
   "outputs": [
    {
     "name": "stdout",
     "output_type": "stream",
     "text": [
      "Inflamed\\CD 11 ILEUM.png\n",
      "Inflamed\\CD11 IL-I-QS_2493 10x 190603.png\n",
      "Inflamed\\CD11 IL-I-QS_2494 10x 190603.png\n",
      "Inflamed\\CD11 IL-I-QS_2495 10x 190603.png\n",
      "Inflamed\\CD11 IL-I-QS_2496 20x 190603.png\n",
      "Inflamed\\CD11 IL-I-QS_2497 20x 190603.png\n",
      "Inflamed\\CD11 IL-I-QS_2498 20x 190603.png\n",
      "Inflamed\\CD11 IL-I-QS_2499 20x 190603.png\n",
      "Inflamed\\CD11 IL-I-QS_2500 40x 190603.png\n",
      "Inflamed\\CD11 IL-I-QS_2501 40x 190603.png\n",
      "Inflamed\\CD11 IL-I-QS_2502 40x 190603.png\n",
      "Inflamed\\CD11 IL-I-QS_2503 40x 190603.png\n",
      "Inflamed\\CD11 IL-I-QS_2504 40x 190603.png\n",
      "Inflamed\\CD11 ILEUM I .png\n",
      "Inflamed\\CD11 ILEUM Inf 2.png\n",
      "Inflamed\\CD11 ILEUM Inf 3.png\n",
      "Inflamed\\CD11-I-I P8 190719 10X.png\n",
      "Inflamed\\CD11-I-I P8 190719 4X.png\n",
      "Inflamed\\CD11-Il-I_QS_2470.png\n",
      "Inflamed\\CD11-Il-I_QS_2471.png\n",
      "Inflamed\\CD12-LC-I_QS_2472.png\n",
      "Inflamed\\CD13-Il-I_QS_2477.png\n",
      "Inflamed\\CD13-Il-I_QS_2478.png\n",
      "Inflamed\\CD13-Il-I_QS_2479.png\n",
      "Inflamed\\CD13-Il-I_QS_2480.png\n",
      "Inflamed\\CD41-I-I P0 190830 10x.png\n",
      "Inflamed\\CD41-I-I P0 190830 4x.png\n",
      "Inflamed\\CD41-I-I P2 190909 10x .png\n",
      "Inflamed\\CD41-I-I P2 190909 4x .png\n",
      "Inflamed\\CD41-I-I p3 10x 9-19-19.png\n",
      "Inflamed\\CD41-I-I p3 4x 9-19-19.png\n",
      "Inflamed\\CD42-I-I P0 190905 10x .png\n",
      "Inflamed\\CD42-I-I P0 190905 4x .png\n",
      "Inflamed\\CD42-I-I P2 190920 10X.png\n",
      "Inflamed\\CD42-I-I P2 190920 4X.png\n",
      "Inflamed\\CD42-I-I P5 191002 10X.png\n",
      "Inflamed\\CD42-I-I P5 191002 4X.png\n",
      "Inflamed\\CD62-I-I P1 202026 10X.png\n",
      "Inflamed\\CD62-I-I P1 202026 4X.png\n",
      "Inflamed\\CD62-I-I P2 200304 10X.png\n",
      "Inflamed\\CD62-I-I P2 200304 4X.png\n",
      "Inflamed\\CD62-I-I P3 200311 10X.png\n",
      "Inflamed\\CD62-I-I P3 200311 4X.png\n",
      "Inflamed\\CD63-I-I P2 200313 10X.png\n",
      "Inflamed\\CD63-I-I P2 200313 4X.png\n",
      "Inflamed\\CD63-I-I P3 200318 10X.png\n",
      "Inflamed\\CD63-I-I P3 200318 4X.png\n",
      "Inflamed\\CD63-I-I P4 200325 10X.png\n",
      "Inflamed\\CD63-I-I P4 200325 4X.png\n"
     ]
    }
   ],
   "source": [
    "# import required module\n",
    "import os\n",
    "# assign directory\n",
    "directory = 'Inflamed'\n",
    " \n",
    "# iterate over files in\n",
    "# that directory\n",
    "for filename in os.listdir(directory):\n",
    "    f = os.path.join(directory, filename)\n",
    "    # checking if it is a file\n",
    "    if os.path.isfile(f):\n",
    "        print(f)"
   ]
  },
  {
   "cell_type": "code",
   "execution_count": 36,
   "metadata": {},
   "outputs": [
    {
     "name": "stdout",
     "output_type": "stream",
     "text": [
      "Inflamed\\CD11-I-I P8 190719 10X.png\n",
      "Inflamed\\CD11-I-I P8 190719 4X.png\n",
      "Inflamed\\CD41-I-I P0 190830 10x.png\n",
      "Inflamed\\CD41-I-I P0 190830 4x.png\n",
      "Inflamed\\CD41-I-I P2 190909 4x .png\n",
      "Inflamed\\CD41-I-I p3 4x 9-19-19.png\n",
      "Inflamed\\CD42-I-I P0 190905 4x .png\n",
      "Inflamed\\CD42-I-I P2 190920 10X.png\n",
      "Inflamed\\CD42-I-I P2 190920 4X.png\n",
      "Inflamed\\CD42-I-I P5 191002 10X.png\n",
      "Inflamed\\CD42-I-I P5 191002 4X.png\n",
      "Inflamed\\CD62-I-I P1 202026 10X.png\n",
      "Inflamed\\CD62-I-I P1 202026 4X.png\n",
      "Inflamed\\CD62-I-I P2 200304 10X.png\n",
      "Inflamed\\CD62-I-I P2 200304 4X.png\n",
      "Inflamed\\CD62-I-I P3 200311 10X.png\n",
      "Inflamed\\CD62-I-I P3 200311 4X.png\n",
      "Inflamed\\CD63-I-I P2 200313 10X.png\n",
      "Inflamed\\CD63-I-I P2 200313 4X.png\n",
      "Inflamed\\CD63-I-I P3 200318 10X.png\n",
      "Inflamed\\CD63-I-I P3 200318 4X.png\n",
      "Inflamed\\CD63-I-I P4 200325 10X.png\n",
      "Inflamed\\CD63-I-I P4 200325 4X.png\n"
     ]
    }
   ],
   "source": [
    "# import required module\n",
    "import os\n",
    "\n",
    "\n",
    "# Leaf directory \n",
    "# directory = \"test\"\n",
    "# assign directory\n",
    "directory = 'Inflamed'\n",
    "  \n",
    "# Path \n",
    "\n",
    "temp2 = \"Inflamed\\CD11 IL-I-QS_2493 10x 190603.png\"\n",
    "# iterate over files in\n",
    "# that directory\n",
    "for filename in os.listdir(directory):\n",
    "    f = os.path.join(directory, filename)\n",
    "    # checking if it is a file\n",
    "  #  if os.path.isfile(f):\n",
    "    if len(f) == 34 or len(f) == 35:\n",
    "        print(f)\n",
    "       \n",
    "\n",
    "        "
   ]
  },
  {
   "cell_type": "code",
   "execution_count": 37,
   "metadata": {},
   "outputs": [
    {
     "name": "stdout",
     "output_type": "stream",
     "text": [
      "Inflamed\\CD11-I-I P8 190719\n",
      "Inflamed\\CD41-I-I P0 190830\n",
      "Inflamed\\CD42-I-I P2 190920\n",
      "Inflamed\\CD42-I-I P5 191002\n",
      "Inflamed\\CD62-I-I P1 202026\n",
      "Inflamed\\CD62-I-I P2 200304\n",
      "Inflamed\\CD62-I-I P3 200311\n",
      "Inflamed\\CD63-I-I P2 200313\n",
      "Inflamed\\CD63-I-I P3 200318\n",
      "Inflamed\\CD63-I-I P4 200325\n"
     ]
    }
   ],
   "source": [
    "# import required module\n",
    "import os\n",
    "directory = 'Inflamed'\n",
    " \n",
    "# create a folder and put the first file in it\n",
    "temp_old = \"Inflamed\\CD11 IL-I-QS_2493 10x 190603.png\"\n",
    "for filename in os.listdir(directory):\n",
    "    f = os.path.join(directory, filename)\n",
    "    # checking if it is a file\n",
    "    if len(f) == 34 or len(f) == 35:\n",
    "            temp = f[0:27]\n",
    "            if (temp == temp_old):\n",
    "                print(temp)\n",
    "                temp_old = temp\n",
    "                # add temp to the same folder as temp_old folder. ask how to do this\n",
    "            else:\n",
    "                temp_old = temp\n",
    "                # add temp to a new folder. ask how to do this\n",
    "            \n"
   ]
  }
 ],
 "metadata": {
  "kernelspec": {
   "display_name": "Python 3.10.11 64-bit (windows store)",
   "language": "python",
   "name": "python3"
  },
  "language_info": {
   "codemirror_mode": {
    "name": "ipython",
    "version": 3
   },
   "file_extension": ".py",
   "mimetype": "text/x-python",
   "name": "python",
   "nbconvert_exporter": "python",
   "pygments_lexer": "ipython3",
   "version": "3.10.11"
  },
  "orig_nbformat": 4,
  "vscode": {
   "interpreter": {
    "hash": "3b7e9cb8e453d6cda0fe8c8dd13f891a1f09162f0e7c66ffeae7751a7aecf00d"
   }
  }
 },
 "nbformat": 4,
 "nbformat_minor": 2
}
