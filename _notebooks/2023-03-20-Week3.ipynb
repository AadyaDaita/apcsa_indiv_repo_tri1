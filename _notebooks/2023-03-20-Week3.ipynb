{
 "cells": [
  {
   "cell_type": "markdown",
   "metadata": {},
   "source": [
    "# Sorts\n",
    "\n"
   ]
  },
  {
   "cell_type": "markdown",
   "metadata": {},
   "source": [
    "### Bubble Sort\n",
    "We are switching each adjacent number. \n",
    "We have to go through the array length of array times. \n",
    "\n",
    "Once a section is sorted, bubble sort will not touch those elements anymore. \n",
    "\n",
    "https://leetcode.com/problems/minimum-swaps-to-arrange-a-binary-grid/description/ \n",
    "\n",
    "The worst-case time complexity of Bubble Sort is O(n^2) where n is the number of elements in the array.\n",
    "\n",
    "In the given code, the outer while loop runs until the first time where no swaps happen, which means that the array is sorted. This loop can run at most n-1 times, where n is the length of the array.\n",
    "\n",
    "Within the while loop, the for loop iterates over the array n-1 times. For each iteration, it compares adjacent elements and swaps them if they are in the wrong order.\n",
    "\n",
    "The worst-case scenario occurs when the array is sorted in reverse order, and every element must be swapped with its adjacent element. In this case, the number of swaps is equal to the sum of the first n-1 positive integers, which is (n-1)(n-2)/2. Therefore, the total number of comparisons and swaps is (n-1)(n-2)/2, which is O(n^2).\n",
    "\n",
    "Therefore, the time complexity of the Bubble Sort algorithm implemented in the given code is O(n^2)."
   ]
  },
  {
   "cell_type": "code",
   "execution_count": 27,
   "metadata": {
    "vscode": {
     "languageId": "java"
    }
   },
   "outputs": [
    {
     "name": "stdout",
     "output_type": "stream",
     "text": [
      "Original: 23, 56, 21, 34, 678, 2, 4, 7, 2235, 996, 446, 999, 6574, 87, 67, 902, 8754, \n",
      "Sorted: 2, 4, 7, 21, 23, 34, 56, 67, 87, 446, 678, 902, 996, 999, 2235, 6574, 8754, "
     ]
    }
   ],
   "source": [
    "public class BubbleSort{ \n",
    "    public static void main(String[] args)\n",
    "    {\n",
    "        int[] bubble_arr = {23,56,21,34,678,2,4,7,2235,996,446,999,6574,87,67,902,8754};\n",
    "        System.out.print(\"Original: \");\n",
    "        for(int index=0; index<bubble_arr.length; index++){\n",
    "            System.out.print(bubble_arr[index] + \", \");\n",
    "        }\n",
    "        System.out.println();\n",
    "\n",
    "        /* run continuously until the first time where no swaps happen */\n",
    "        boolean swap = true;\n",
    "        while(swap)\n",
    "        {\n",
    "            swap = false;\n",
    "            for(int i=0; i<bubble_arr.length-1; i++){\n",
    "                if (bubble_arr[i]>bubble_arr[i+1]){\n",
    "                    swap = true;\n",
    "                    int temp = bubble_arr[i];\n",
    "                    bubble_arr[i] = bubble_arr[i+1];\n",
    "                    bubble_arr[i+1] = temp;\n",
    "                }\n",
    "            }\n",
    "        }\n",
    "        System.out.print(\"Sorted: \");\n",
    "        for(int index=0; index<bubble_arr.length; index++){\n",
    "            System.out.print(bubble_arr[index] + \", \");\n",
    "        }\n",
    "\n",
    "        }\n",
    "    \n",
    "}\n",
    "\n",
    "BubbleSort.main(null);\n",
    "\n"
   ]
  },
  {
   "cell_type": "code",
   "execution_count": 29,
   "metadata": {
    "vscode": {
     "languageId": "java"
    }
   },
   "outputs": [
    {
     "name": "stdout",
     "output_type": "stream",
     "text": [
      "Original: 23, 56, 21, 34, 678, 2, 4, 7, 2235, 996, 446, 999, 6574, 87, 67, 902, 8754, \n",
      "Sorted: 2, 4, 7, 21, 23, 34, 56, 67, 87, 446, 678, 902, 996, 999, 2235, 6574, 8754, "
     ]
    }
   ],
   "source": [
    "//running with a nested while loop\n",
    "\n",
    "public class BubbleSort{\n",
    "    public static void main(String[] args)\n",
    "    {\n",
    "        int[] bubble_arr = {23,56,21,34,678,2,4,7,2235,996,446,999,6574,87,67,902,8754};\n",
    "        System.out.print(\"Original: \");\n",
    "        for(int index=0; index<bubble_arr.length; index++){\n",
    "            System.out.print(bubble_arr[index] + \", \");\n",
    "        }\n",
    "        System.out.println();\n",
    "\n",
    "        /* run continuously until the first time where no swaps happen */\n",
    "       \n",
    "        for(int passes=1; passes<bubble_arr.length-1; passes++){ // you need to run passes for 1 through length-1 times\n",
    "          \n",
    "            for(int i=0; i<bubble_arr.length-1; i++){\n",
    "                if (bubble_arr[i]>bubble_arr[i+1]){\n",
    "                    int temp = bubble_arr[i];\n",
    "                    bubble_arr[i] = bubble_arr[i+1];\n",
    "                    bubble_arr[i+1] = temp;\n",
    "                }\n",
    "            }\n",
    "        }\n",
    "        \n",
    "        System.out.print(\"Sorted: \");\n",
    "        for(int index=0; index<bubble_arr.length; index++){\n",
    "            System.out.print(bubble_arr[index] + \", \");\n",
    "        }\n",
    "\n",
    "        }\n",
    "    \n",
    "}\n",
    "\n",
    "BubbleSort.main(null);\n",
    "\n"
   ]
  },
  {
   "cell_type": "markdown",
   "metadata": {},
   "source": [
    "### Practice"
   ]
  },
  {
   "cell_type": "code",
   "execution_count": null,
   "metadata": {
    "vscode": {
     "languageId": "java"
    }
   },
   "outputs": [],
   "source": [
    "public PalindromeicNumbers(int numPalindrome, int start){\n",
    "    list = new int[numPalindrome];\n",
    "    int position = 0;\n",
    "    int values = start\n",
    "    while(position<numPalindrome){\n",
    "        if (isPalindromic(values)){\n",
    "            list[position] = values;\n",
    "            position++;\n",
    "        }\n",
    "        values++;\n",
    "    \n",
    "    }\n",
    "}\n",
    "\n",
    "public int sum(){\n",
    "    int sum = 0;\n",
    "    for(int i=0; i<list.length; <i++){\n",
    "        sum = sum + list[i];\n",
    "    }\n",
    "    return sum; \n",
    "}"
   ]
  },
  {
   "cell_type": "markdown",
   "metadata": {},
   "source": [
    "### Insertion Sort\n",
    "- Insertion sort has two different sections: a sorted one and an unsorted one. \n",
    "- It starts with the second element, or index 1, and decides where it belongs in the sorted section. \n",
    "- It inserts each index depending on hierarchy. \n",
    "- inserts to the left. \n",
    "- Big O notation is O(n) in the *best* case. \n",
    "- in the *worst* case, the notation is O(n^2)\n",
    "\n",
    "The given code implements the Insertion Sort algorithm for sorting an array of integers. The worst-case time complexity of Insertion Sort is O(n^2) where n is the number of elements in the array.\n",
    "\n",
    "The first for loop prints the original array, which takes O(n) time, where n is the number of elements in the array.\n",
    "\n",
    "The second for loop iterates over the array n-1 times, where n is the length of the array. For each iteration, the inner loop iterates from the current index to the beginning of the array, checking whether the current element is smaller than the previous element. If so, it swaps the two elements. The inner loop may iterate up to i times, where i is the current index in the outer loop.\n",
    "\n",
    "The worst-case scenario occurs when the array is sorted in reverse order, and every element must be moved to the beginning of the array. In this case, the total number of comparisons and swaps is equal to the sum of the first n-1 positive integers, which is (n-1)*(n-2)/2. Therefore, the total time complexity of the algorithm is O(n^2).\n",
    "\n",
    "Therefore, the time complexity of the Insertion Sort algorithm implemented in the given code is O(n^2)."
   ]
  },
  {
   "cell_type": "code",
   "execution_count": 8,
   "metadata": {
    "vscode": {
     "languageId": "java"
    }
   },
   "outputs": [
    {
     "name": "stdout",
     "output_type": "stream",
     "text": [
      "3, 2, 5, 1, 0, 10, 43, 2353, 32, 75, 12, 33, \n",
      "0, 1, 2, 3, 5, 10, 12, 32, 33, 43, 75, 2353, "
     ]
    }
   ],
   "source": [
    "public class Insertion{\n",
    "    public static void main(String[] args){\n",
    "      int[] array = {3,2,5,1,0,10,43,2353,32,75,12,33};\n",
    "      \n",
    "      for(int i = 0; i<array.length; i++){\n",
    "          System.out.print(array[i] + \", \");\n",
    "      }\n",
    "      System.out.println();\n",
    "\n",
    "      \n",
    "      for(int index=1; index<array.length; index++){\n",
    "        for(int sorted_index = index; sorted_index>0; sorted_index--){\n",
    "            if(array[sorted_index]<array[sorted_index-1]){\n",
    "                int temp = array[sorted_index];\n",
    "                array[sorted_index] = array[sorted_index-1];\n",
    "                array[sorted_index-1] = temp;\n",
    "            }\n",
    "        }\n",
    "      }\n",
    "      \n",
    "      for (int i = 0; i<array.length; i++){\n",
    "        System.out.print(array[i] + \", \");\n",
    "      }\n",
    "    \n",
    "    }\n",
    "  }\n",
    "  \n",
    "  \n",
    "  \n",
    "  Insertion.main(null);"
   ]
  },
  {
   "cell_type": "markdown",
   "metadata": {},
   "source": [
    "### Selection Sort\n",
    "- If we have a set of numbers that are unsorted, we most the lowest number to the end. \n",
    "- We keep taking the lowest number from the unsorted section, and adding it to the right of the sorted section. \n",
    "- In place sorting algorithm takes constant amount of memory. \n",
    "\n",
    "The given code implements the Selection Sort algorithm for sorting an array of integers. The worst-case time complexity of Selection Sort is O(n^2) where n is the number of elements in the array.\n",
    "\n",
    "The first for loop prints the original array, which takes O(n) time, where n is the number of elements in the array.\n",
    "\n",
    "The second for loop iterates over the array n-1 times, where n is the length of the array. For each iteration, it finds the minimum element in the remaining unsorted portion of the array, and swaps it with the first element of the unsorted portion. The inner loop iterates over the remaining unsorted portion of the array, which can be at most n-1 elements.\n",
    "\n",
    "The worst-case scenario occurs when the array is sorted in reverse order, and every element must be moved to the beginning of the array. In this case, the total number of comparisons and swaps is equal to the sum of the first n-1 positive integers, which is (n-1)*(n-2)/2. Therefore, the total time complexity of the algorithm is O(n^2).\n",
    "\n",
    "Therefore, the time complexity of the Selection Sort algorithm implemented in the given code is O(n^2)"
   ]
  },
  {
   "cell_type": "code",
   "execution_count": 2,
   "metadata": {
    "vscode": {
     "languageId": "java"
    }
   },
   "outputs": [
    {
     "name": "stdout",
     "output_type": "stream",
     "text": [
      "23, 12, 57, 335, 5433, 24567, 64, 25, 66, \n",
      "12, 23, 25, 57, 64, 66, 335, 5433, 24567, "
     ]
    }
   ],
   "source": [
    "//Method 1: PLacing all the lowest integers to the right, or the end of the array. \n",
    "\n",
    "public class Selection {\n",
    "    public static void main(String[] args){\n",
    "        int[] array = {23,12,57,335,5433,24567,64,25,66};\n",
    "        for (int i = 0; i<array.length; i++){\n",
    "            System.out.print(array[i] + \", \");\n",
    "          }\n",
    "          System.out.println();\n",
    "        int times = array.length;\n",
    "        for (int outer=times; outer>0; outer--){\n",
    "            int min = 0xFFFFFF;\n",
    "            int min_idx = 0;\n",
    "            for(int i=0; i<outer; i++){\n",
    "                if(array[i] < min){\n",
    "                    min = array[i];\n",
    "                    min_idx = i;\n",
    "                }\n",
    "            }\n",
    "            for (int j = min_idx+1; j < array.length; j++){\n",
    "                        array[j-1]=array[j];\n",
    "            }\n",
    "            array[array.length-1] = min;\n",
    "        }\n",
    "        for (int i = 0; i<array.length; i++){\n",
    "            System.out.print(array[i] + \", \");\n",
    "          }\n",
    "    }\n",
    "}\n",
    "\n",
    "Selection.main(null);"
   ]
  },
  {
   "cell_type": "code",
   "execution_count": 6,
   "metadata": {
    "vscode": {
     "languageId": "java"
    }
   },
   "outputs": [
    {
     "name": "stdout",
     "output_type": "stream",
     "text": [
      "23, 12, 57, 335, 5433, 24567, 64, 25, 66, \n",
      "12, 23, 25, 57, 64, 66, 335, 5433, 24567, "
     ]
    }
   ],
   "source": [
    "//Method 2: PLacing all the lowest integers to the right, or the end of the array. \n",
    "\n",
    "public class Selection2 {\n",
    "    public static void main(String[] args){\n",
    "        int[] array = {23,12,57,335,5433,24567,64,25,66};\n",
    "        for (int i = 0; i<array.length; i++){\n",
    "            System.out.print(array[i] + \", \");\n",
    "          }\n",
    "          System.out.println();\n",
    "\n",
    "\n",
    "        boolean sorted = false;\n",
    "        int count=0;\n",
    "        for(int i=0; i<array.length-1; i++){\n",
    "            if(array[i]< array[i+1]){\n",
    "                count = count+1;\n",
    "            }\n",
    "            if(count==array.length-1){\n",
    "                sorted=true;\n",
    "            }\n",
    "        }\n",
    "        \n",
    "       \n",
    "        int times = array.length;\n",
    "        while(times>0){\n",
    "            int min = 0xFFFFFF; //max int possible\n",
    "            int min_idx = 0;\n",
    "            for(int i=0; i<times; i++){\n",
    "                if (array[i] == min){\n",
    "                    break;\n",
    "                }\n",
    "                if(array[i] < min){\n",
    "                    min = array[i];\n",
    "                    min_idx = i;\n",
    "                    \n",
    "                }\n",
    "            }\n",
    "\n",
    "\n",
    "\n",
    "\n",
    "\n",
    "            for (int j = min_idx+1; j < array.length; j++){\n",
    "                        array[j-1]=array[j];\n",
    "            }\n",
    "            array[array.length-1] = min;\n",
    "            times = times-1;\n",
    "        }\n",
    "\n",
    "\n",
    "        \n",
    "        for (int i = 0; i<array.length; i++){\n",
    "            System.out.print(array[i] + \", \");\n",
    "          }\n",
    "    }\n",
    "}\n",
    "\n",
    "Selection2.main(null);"
   ]
  },
  {
   "cell_type": "markdown",
   "metadata": {},
   "source": [
    "### Merge Sort\n",
    "Merge Sort is O(n log n), where n is the number of elements in the array.\n",
    "\n",
    "The reason for this is that Merge Sort recursively divides the input array into halves until each subarray has only one element. The merge operation then takes linear time O(n) to merge two subarrays into a sorted array, where n is the total number of elements in both subarrays. Since each level of recursion takes O(n) time to merge the subarrays, and the recursion depth is O(log n), the overall time complexity of Merge Sort is O(n log n).\n",
    "\n",
    "The space complexity of Merge Sort is O(n) because the temporary array temp used in the merge function requires O(n) space to store the merged subarrays. However, Merge Sort is a stable sorting algorithm, which means it maintains the relative order of equal elements in the input array, and this property is important in certain applications."
   ]
  },
  {
   "cell_type": "code",
   "execution_count": 1,
   "metadata": {
    "vscode": {
     "languageId": "java"
    }
   },
   "outputs": [],
   "source": [
    "public class MergeSort {\n",
    "    public static void main(String[] args){\n",
    "        int[] arr = {23,12,57,335,5433,24567,64,25,66};\n",
    "        mergeSort(arr, 0, arr.length-1);\n",
    "        for(int i=0; i<arr.length; i++){\n",
    "            System.out.print(arr[i] + \", \");\n",
    "        }\n",
    "    }\n",
    "\n",
    "    public static void mergeSort(int[] arr, int left, int right){\n",
    "        if(left < right){\n",
    "            int mid = (left+right)/2;\n",
    "            mergeSort(arr, left, mid);\n",
    "            mergeSort(arr, mid+1, right);\n",
    "            merge(arr, left, mid, right);\n",
    "        }\n",
    "    }\n",
    "\n",
    "    public static void merge(int[] arr, int left, int mid, int right){\n",
    "        int[] temp = new int[right-left+1];\n",
    "        int i = left;\n",
    "        int j = mid+1;\n",
    "        int k = 0;\n",
    "\n",
    "        while(i <= mid && j <= right){\n",
    "            if(arr[i] < arr[j]){\n",
    "                temp[k] = arr[i];\n",
    "                k++;\n",
    "                i++;\n",
    "            }\n",
    "            else{\n",
    "                temp[k] = arr[j];\n",
    "                k++;\n",
    "                j++;\n",
    "            }\n",
    "        }\n",
    "\n",
    "        while(i <= mid){\n",
    "            temp[k] = arr[i];\n",
    "            k++;\n",
    "            i++;\n",
    "        }\n",
    "\n",
    "        while(j <= right){\n",
    "            temp[k] = arr[j];\n",
    "            k++;\n",
    "            j++;\n",
    "        }\n",
    "\n",
    "        for(int x=0; x<temp.length; x++){\n",
    "            arr[left+x] = temp[x];\n",
    "        }\n",
    "    }\n",
    "}"
   ]
  }
 ],
 "metadata": {
  "kernelspec": {
   "display_name": "Java",
   "language": "java",
   "name": "java"
  },
  "language_info": {
   "codemirror_mode": "java",
   "file_extension": ".jshell",
   "mimetype": "text/x-java-source",
   "name": "Java",
   "pygments_lexer": "java",
   "version": "11.0.16+8-post-Ubuntu-0ubuntu120.04"
  },
  "orig_nbformat": 4
 },
 "nbformat": 4,
 "nbformat_minor": 2
}
