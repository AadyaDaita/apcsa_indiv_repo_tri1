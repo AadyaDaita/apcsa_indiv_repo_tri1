{
 "cells": [
  {
   "cell_type": "markdown",
   "metadata": {},
   "source": [
    "# Sorts\n",
    "\n"
   ]
  },
  {
   "cell_type": "markdown",
   "metadata": {},
   "source": [
    "### Bubble Sort\n",
    "We are switching each adjacent number. \n",
    "We have to go through the array length of array times. \n",
    "\n",
    "Once a section is sorted, bubble sort will not touch those elements anymore. \n",
    "\n",
    "https://leetcode.com/problems/minimum-swaps-to-arrange-a-binary-grid/description/ \n",
    "\n",
    "The worst-case time complexity of Bubble Sort is O(n^2) where n is the number of elements in the array.\n",
    "\n",
    "In the given code, the outer while loop runs until the first time where no swaps happen, which means that the array is sorted. This loop can run at most n-1 times, where n is the length of the array.\n",
    "\n",
    "Within the while loop, the for loop iterates over the array n-1 times. For each iteration, it compares adjacent elements and swaps them if they are in the wrong order.\n",
    "\n",
    "The worst-case scenario occurs when the array is sorted in reverse order, and every element must be swapped with its adjacent element. In this case, the number of swaps is equal to the sum of the first n-1 positive integers, which is (n-1)(n-2)/2. Therefore, the total number of comparisons and swaps is (n-1)(n-2)/2, which is O(n^2).\n",
    "\n",
    "Therefore, the time complexity of the Bubble Sort algorithm implemented in the given code is O(n^2)."
   ]
  },
  {
   "cell_type": "code",
   "execution_count": 27,
   "metadata": {
    "vscode": {
     "languageId": "java"
    }
   },
   "outputs": [
    {
     "name": "stdout",
     "output_type": "stream",
     "text": [
      "Original: 23, 56, 21, 34, 678, 2, 4, 7, 2235, 996, 446, 999, 6574, 87, 67, 902, 8754, \n",
      "Sorted: 2, 4, 7, 21, 23, 34, 56, 67, 87, 446, 678, 902, 996, 999, 2235, 6574, 8754, "
     ]
    }
   ],
   "source": [
    "public class BubbleSort{ \n",
    "    public static void main(String[] args)\n",
    "    {\n",
    "        int[] bubble_arr = {23,56,21,34,678,2,4,7,2235,996,446,999,6574,87,67,902,8754};\n",
    "        System.out.print(\"Original: \");\n",
    "        for(int index=0; index<bubble_arr.length; index++){\n",
    "            System.out.print(bubble_arr[index] + \", \");\n",
    "        }\n",
    "        System.out.println();\n",
    "\n",
    "        /* run continuously until the first time where no swaps happen */\n",
    "        boolean swap = true;\n",
    "        while(swap)\n",
    "        {\n",
    "            swap = false;\n",
    "            for(int i=0; i<bubble_arr.length-1; i++){\n",
    "                if (bubble_arr[i]>bubble_arr[i+1]){\n",
    "                    swap = true;\n",
    "                    int temp = bubble_arr[i];\n",
    "                    bubble_arr[i] = bubble_arr[i+1];\n",
    "                    bubble_arr[i+1] = temp;\n",
    "                }\n",
    "            }\n",
    "        }\n",
    "        System.out.print(\"Sorted: \");\n",
    "        for(int index=0; index<bubble_arr.length; index++){\n",
    "            System.out.print(bubble_arr[index] + \", \");\n",
    "        }\n",
    "\n",
    "        }\n",
    "    \n",
    "}\n",
    "\n",
    "BubbleSort.main(null);\n",
    "\n"
   ]
  },
  {
   "cell_type": "code",
   "execution_count": 29,
   "metadata": {
    "vscode": {
     "languageId": "java"
    }
   },
   "outputs": [
    {
     "name": "stdout",
     "output_type": "stream",
     "text": [
      "Original: 23, 56, 21, 34, 678, 2, 4, 7, 2235, 996, 446, 999, 6574, 87, 67, 902, 8754, \n",
      "Sorted: 2, 4, 7, 21, 23, 34, 56, 67, 87, 446, 678, 902, 996, 999, 2235, 6574, 8754, "
     ]
    }
   ],
   "source": [
    "//running with a nested while loop\n",
    "\n",
    "public class BubbleSort{\n",
    "    public static void main(String[] args)\n",
    "    {\n",
    "        int[] bubble_arr = {23,56,21,34,678,2,4,7,2235,996,446,999,6574,87,67,902,8754};\n",
    "        System.out.print(\"Original: \");\n",
    "        for(int index=0; index<bubble_arr.length; index++){\n",
    "            System.out.print(bubble_arr[index] + \", \");\n",
    "        }\n",
    "        System.out.println();\n",
    "\n",
    "        /* run continuously until the first time where no swaps happen */\n",
    "       \n",
    "        for(int passes=1; passes<bubble_arr.length-1; passes++){ // you need to run passes for 1 through length-1 times\n",
    "          \n",
    "            for(int i=0; i<bubble_arr.length-1; i++){\n",
    "                if (bubble_arr[i]>bubble_arr[i+1]){\n",
    "                    int temp = bubble_arr[i];\n",
    "                    bubble_arr[i] = bubble_arr[i+1];\n",
    "                    bubble_arr[i+1] = temp;\n",
    "                }\n",
    "            }\n",
    "        }\n",
    "        \n",
    "        System.out.print(\"Sorted: \");\n",
    "        for(int index=0; index<bubble_arr.length; index++){\n",
    "            System.out.print(bubble_arr[index] + \", \");\n",
    "        }\n",
    "\n",
    "        }\n",
    "    \n",
    "}\n",
    "\n",
    "BubbleSort.main(null);\n",
    "\n"
   ]
  },
  {
   "cell_type": "markdown",
   "metadata": {},
   "source": [
    "### Practice"
   ]
  },
  {
   "cell_type": "code",
   "execution_count": 10,
   "metadata": {
    "vscode": {
     "languageId": "java"
    }
   },
   "outputs": [
    {
     "ename": "CompilationException",
     "evalue": "",
     "output_type": "error",
     "traceback": [
      "\u001b[1m\u001b[30m|   \u001b[1m\u001b[30mpublic PalindromeicNumbers(int \u001b[0m\u001b[1m\u001b[30m\u001b[41m\u001b[0m\u001b[1m\u001b[30mnumPalindrome, int start){\u001b[0m",
      "\u001b[1m\u001b[31m'.class' expected\u001b[0m",
      ""
     ]
    }
   ],
   "source": [
    "public PalindromeicNumbers(int numPalindrome, int start){\n",
    "    list = new int[numPalindrome];\n",
    "    int position = 0;\n",
    "    int values = start\n",
    "    while(position<numPalindrome){\n",
    "        if (isPalindromic(values)){\n",
    "            list[position] = values;\n",
    "            position++;\n",
    "        }\n",
    "        values++;\n",
    "    \n",
    "    }\n",
    "}\n",
    "\n",
    "public int sum(){\n",
    "    int sum = 0;\n",
    "    for(int i=0; i<list.length; <i++){\n",
    "        sum = sum + list[i];\n",
    "    }\n",
    "    return sum; \n",
    "}"
   ]
  },
  {
   "cell_type": "markdown",
   "metadata": {},
   "source": [
    "### Insertion Sort\n",
    "- Insertion sort has two different sections: a sorted one and an unsorted one. \n",
    "- It starts with the second element, or index 1, and decides where it belongs in the sorted section. \n",
    "- It inserts each index depending on hierarchy. \n",
    "- inserts to the left. \n",
    "- Big O notation is O(n) in the *best* case. \n",
    "- in the *worst* case, the notation is O(n^2)\n",
    "\n",
    "The given code implements the Insertion Sort algorithm for sorting an array of integers. The worst-case time complexity of Insertion Sort is O(n^2) where n is the number of elements in the array.\n",
    "\n",
    "The first for loop prints the original array, which takes O(n) time, where n is the number of elements in the array.\n",
    "\n",
    "The second for loop iterates over the array n-1 times, where n is the length of the array. For each iteration, the inner loop iterates from the current index to the beginning of the array, checking whether the current element is smaller than the previous element. If so, it swaps the two elements. The inner loop may iterate up to i times, where i is the current index in the outer loop.\n",
    "\n",
    "The worst-case scenario occurs when the array is sorted in reverse order, and every element must be moved to the beginning of the array. In this case, the total number of comparisons and swaps is equal to the sum of the first n-1 positive integers, which is (n-1)*(n-2)/2. Therefore, the total time complexity of the algorithm is O(n^2).\n",
    "\n",
    "Therefore, the time complexity of the Insertion Sort algorithm implemented in the given code is O(n^2)."
   ]
  },
  {
   "cell_type": "code",
   "execution_count": 8,
   "metadata": {
    "vscode": {
     "languageId": "java"
    }
   },
   "outputs": [
    {
     "name": "stdout",
     "output_type": "stream",
     "text": [
      "3, 2, 5, 1, 0, 10, 43, 2353, 32, 75, 12, 33, \n",
      "0, 1, 2, 3, 5, 10, 12, 32, 33, 43, 75, 2353, "
     ]
    }
   ],
   "source": [
    "public class Insertion{\n",
    "    public static void main(String[] args){\n",
    "      int[] array = {3,2,5,1,0,10,43,2353,32,75,12,33};\n",
    "      \n",
    "      for(int i = 0; i<array.length; i++){\n",
    "          System.out.print(array[i] + \", \");\n",
    "      }\n",
    "      System.out.println();\n",
    "\n",
    "      \n",
    "      for(int index=1; index<array.length; index++){\n",
    "        for(int sorted_index = index; sorted_index>0; sorted_index--){\n",
    "            if(array[sorted_index]<array[sorted_index-1]){\n",
    "                int temp = array[sorted_index];\n",
    "                array[sorted_index] = array[sorted_index-1];\n",
    "                array[sorted_index-1] = temp;\n",
    "            }\n",
    "        }\n",
    "      }\n",
    "      \n",
    "      for (int i = 0; i<array.length; i++){\n",
    "        System.out.print(array[i] + \", \");\n",
    "      }\n",
    "    \n",
    "    }\n",
    "  }\n",
    "  \n",
    "  \n",
    "  \n",
    "  Insertion.main(null);"
   ]
  },
  {
   "cell_type": "code",
   "execution_count": 9,
   "metadata": {
    "vscode": {
     "languageId": "java"
    }
   },
   "outputs": [
    {
     "name": "stdout",
     "output_type": "stream",
     "text": [
      "Average: 2504.3166666666666\n",
      "Total Seconds: 0.066990999\n"
     ]
    }
   ],
   "source": [
    "public class InsertionSort {\n",
    "    public static void insertionSort(int[] x) {\n",
    "        for (int i = 1; i < x.length; i++) {\n",
    "            int temp = x[i];\n",
    "            int j = i - 1;\n",
    "            while (j >= 0 && x[j] > temp) {\n",
    "                x[j + 1] = x[j];\n",
    "                j--;\n",
    "            }\n",
    "            x[j + 1] = temp;\n",
    "        }\n",
    "    }\n",
    "\n",
    "    public static void main(String[] args) {\n",
    "        final int TIMES = 12;\n",
    "        final int SIZE = 5000;\n",
    "        double sum = 0; //double b/c int might be too short\n",
    "        double time = 0;\n",
    "\n",
    "        for (int i = 0; i < TIMES; i++) {\n",
    "            int[] data = new int[SIZE];\n",
    "            for (int j = 0; j < data.length; j++) {\n",
    "                data[j] = (int) (Math.random() * SIZE);\n",
    "            }\n",
    "            double startTime = System.nanoTime();\n",
    "            insertionSort(data);\n",
    "            double endTime = System.nanoTime();\n",
    "            sum += calculateSum(data);\n",
    "            time += endTime - startTime;\n",
    "        }\n",
    "        System.out.println(\"Average: \" + sum / (TIMES * SIZE));\n",
    "        System.out.println(\"Total Seconds: \" + time / 1000000000.0);\n",
    "    }\n",
    "\n",
    "    private static double calculateSum(int[] data) {\n",
    "        double sum = 0;\n",
    "        for (int j = 0; j < data.length; j++) {\n",
    "            sum += data[j];\n",
    "        }\n",
    "        return sum;\n",
    "    }\n",
    "}\n",
    "\n",
    "InsertionSort.main(null);"
   ]
  },
  {
   "cell_type": "markdown",
   "metadata": {},
   "source": [
    "### Selection Sort\n",
    "- If we have a set of numbers that are unsorted, we most the lowest number to the end. \n",
    "- We keep taking the lowest number from the unsorted section, and adding it to the right of the sorted section. \n",
    "- In place sorting algorithm takes constant amount of memory. \n",
    "\n",
    "The given code implements the Selection Sort algorithm for sorting an array of integers. The worst-case time complexity of Selection Sort is O(n^2) where n is the number of elements in the array.\n",
    "\n",
    "The first for loop prints the original array, which takes O(n) time, where n is the number of elements in the array.\n",
    "\n",
    "The second for loop iterates over the array n-1 times, where n is the length of the array. For each iteration, it finds the minimum element in the remaining unsorted portion of the array, and swaps it with the first element of the unsorted portion. The inner loop iterates over the remaining unsorted portion of the array, which can be at most n-1 elements.\n",
    "\n",
    "The worst-case scenario occurs when the array is sorted in reverse order, and every element must be moved to the beginning of the array. In this case, the total number of comparisons and swaps is equal to the sum of the first n-1 positive integers, which is (n-1)*(n-2)/2. Therefore, the total time complexity of the algorithm is O(n^2).\n",
    "\n",
    "Therefore, the time complexity of the Selection Sort algorithm implemented in the given code is O(n^2)"
   ]
  },
  {
   "cell_type": "code",
   "execution_count": 4,
   "metadata": {
    "vscode": {
     "languageId": "java"
    }
   },
   "outputs": [
    {
     "name": "stdout",
     "output_type": "stream",
     "text": [
      "23, 12, 57, 335, 5433, 24567, 64, 25, 66, \n",
      "12, 23, 25, 57, 64, 66, 335, 5433, 24567, "
     ]
    }
   ],
   "source": [
    "//Method 1: PLacing all the lowest integers to the right, or the end of the array. \n",
    "\n",
    "public class Selection {\n",
    "    public static void main(String[] args){\n",
    "        int[] array = {23,12,57,335,5433,24567,64,25,66};\n",
    "        for (int i = 0; i<array.length; i++){\n",
    "            System.out.print(array[i] + \", \");\n",
    "          }\n",
    "          System.out.println();\n",
    "        int times = array.length;\n",
    "        for (int outer=times; outer>0; outer--){\n",
    "            int min = 0xFFFFFF;\n",
    "            int min_idx = 0;\n",
    "            for(int i=0; i<outer; i++){\n",
    "                if(array[i] < min){\n",
    "                    min = array[i];\n",
    "                    min_idx = i;\n",
    "                }\n",
    "            }\n",
    "            for (int j = min_idx+1; j < array.length; j++){\n",
    "                        array[j-1]=array[j];\n",
    "            }\n",
    "            array[array.length-1] = min;\n",
    "        }\n",
    "        for (int i = 0; i<array.length; i++){\n",
    "            System.out.print(array[i] + \", \");\n",
    "          }\n",
    "    }\n",
    "}\n",
    "\n",
    "Selection.main(null);"
   ]
  },
  {
   "cell_type": "code",
   "execution_count": 7,
   "metadata": {
    "vscode": {
     "languageId": "java"
    }
   },
   "outputs": [
    {
     "name": "stdout",
     "output_type": "stream",
     "text": [
      "23, 12, 57, 335, 5433, 24567, 64, 25, 66, \n",
      "12, 23, 25, 57, 64, 66, 335, 5433, 24567, "
     ]
    }
   ],
   "source": [
    "//Method 2: PLacing all the lowest integers to the right, or the end of the array. \n",
    "\n",
    "public class Selection2 {\n",
    "    public static void main(String[] args){\n",
    "        int[] array = {23,12,57,335,5433,24567,64,25,66};\n",
    "        for (int i = 0; i<array.length; i++){\n",
    "            System.out.print(array[i] + \", \");\n",
    "          }\n",
    "          System.out.println();\n",
    "\n",
    "\n",
    "        boolean sorted = false;\n",
    "        int count=0;\n",
    "        for(int i=0; i<array.length-1; i++){\n",
    "            if(array[i]< array[i+1]){\n",
    "                count = count+1;\n",
    "            }\n",
    "            if(count==array.length-1){\n",
    "                sorted=true;\n",
    "            }\n",
    "        }\n",
    "        \n",
    "       \n",
    "        int times = array.length;\n",
    "        while(times>0){\n",
    "            int min = 0xFFFFFF; //max int possible\n",
    "            int min_idx = 0;\n",
    "            for(int i=0; i<times; i++){\n",
    "                if (array[i] == min){\n",
    "                    break;\n",
    "                }\n",
    "                if(array[i] < min){\n",
    "                    min = array[i];\n",
    "                    min_idx = i;\n",
    "                    \n",
    "                }\n",
    "            }\n",
    "\n",
    "\n",
    "\n",
    "\n",
    "\n",
    "            for (int j = min_idx+1; j < array.length; j++){\n",
    "                        array[j-1]=array[j];\n",
    "            }\n",
    "            array[array.length-1] = min;\n",
    "            times = times-1;\n",
    "        }\n",
    "\n",
    "\n",
    "        \n",
    "        for (int i = 0; i<array.length; i++){\n",
    "            System.out.print(array[i] + \", \");\n",
    "          }\n",
    "    }\n",
    "}\n",
    "\n",
    "Selection2.main(null);"
   ]
  },
  {
   "cell_type": "code",
   "execution_count": 8,
   "metadata": {
    "vscode": {
     "languageId": "java"
    }
   },
   "outputs": [
    {
     "name": "stdout",
     "output_type": "stream",
     "text": [
      "Average random: 2489.0466333333334\n",
      "Total Seconds: 0.160089821\n"
     ]
    }
   ],
   "source": [
    "public class SelectionSort{\n",
    "    public static void selectionSort(int[] numbers)\n",
    "    {\n",
    "        for(int i = 0; i < numbers.length - 1; i++)\n",
    "        {\n",
    "            int position = i;\n",
    "            for(int k = i + 1; k < numbers.length; k++)\n",
    "            {\n",
    "                if (numbers[k] < numbers [position])\n",
    "                {\n",
    "                    position = k;\n",
    "                }\n",
    "            }\n",
    "            int temp = numbers[i];\n",
    "            numbers[i] = numbers[position];\n",
    "            numbers[position] = temp;\n",
    "        }\n",
    "    }\n",
    "    public static void main(String[] args) {\n",
    "        final int TIMES = 12;\n",
    "        final int SIZE = 5000;\n",
    "        double sum = 0; //double b/c int might be too short\n",
    "        double time = 0;\n",
    "\n",
    "        for (int i = 0; i < TIMES; i++) {\n",
    "            int[] data = new int[SIZE];\n",
    "            for (int j = 0; j < data.length; j++) {\n",
    "                data[j] = (int) (Math.random() * SIZE);\n",
    "            }\n",
    "            double startTime = System.nanoTime();\n",
    "            selectionSort(data);\n",
    "            double endTime = System.nanoTime();\n",
    "            sum += calculateSum(data);\n",
    "            time += endTime - startTime;\n",
    "        }\n",
    "        System.out.println(\"Average random: \" + sum / (TIMES * SIZE));\n",
    "        System.out.println(\"Total Seconds: \" + time / 1000000000.0);\n",
    "    }\n",
    "\n",
    "    private static double calculateSum(int[] data) {\n",
    "        double sum = 0;\n",
    "        for (int j = 0; j < data.length; j++) {\n",
    "            sum += data[j];\n",
    "        }\n",
    "        return sum;\n",
    "    }\n",
    "}\n",
    "\n",
    "SelectionSort.main(null);"
   ]
  },
  {
   "cell_type": "markdown",
   "metadata": {},
   "source": [
    "### Merge Sort\n",
    "Merge Sort is O(n log n), where n is the number of elements in the array.\n",
    "\n",
    "The reason for this is that Merge Sort recursively divides the input array into halves until each subarray has only one element. The merge operation then takes linear time O(n) to merge two subarrays into a sorted array, where n is the total number of elements in both subarrays. Since each level of recursion takes O(n) time to merge the subarrays, and the recursion depth is O(log n), the overall time complexity of Merge Sort is O(n log n).\n",
    "\n",
    "The space complexity of Merge Sort is O(n) because the temporary array temp used in the merge function requires O(n) space to store the merged subarrays. However, Merge Sort is a stable sorting algorithm, which means it maintains the relative order of equal elements in the input array, and this property is important in certain applications."
   ]
  },
  {
   "cell_type": "code",
   "execution_count": 6,
   "metadata": {
    "vscode": {
     "languageId": "java"
    }
   },
   "outputs": [],
   "source": [
    "public class MergeSort {\n",
    "    public static void main(String[] args){\n",
    "        int[] arr = {23,12,57,335,5433,24567,64,25,66};\n",
    "        mergeSort(arr, 0, arr.length-1);\n",
    "        for(int i=0; i<arr.length; i++){\n",
    "            System.out.print(arr[i] + \", \");\n",
    "        }\n",
    "    }\n",
    "\n",
    "    public static void mergeSort(int[] arr, int left, int right){\n",
    "        if(left < right){\n",
    "            int mid = (left+right)/2;\n",
    "            mergeSort(arr, left, mid);\n",
    "            mergeSort(arr, mid+1, right);\n",
    "            merge(arr, left, mid, right);\n",
    "        }\n",
    "    }\n",
    "\n",
    "    public static void merge(int[] arr, int left, int mid, int right){\n",
    "        int[] temp = new int[right-left+1];\n",
    "        int i = left;\n",
    "        int j = mid+1;\n",
    "        int k = 0;\n",
    "\n",
    "        while(i <= mid && j <= right){\n",
    "            if(arr[i] < arr[j]){\n",
    "                temp[k] = arr[i];\n",
    "                k++;\n",
    "                i++;\n",
    "            }\n",
    "            else{\n",
    "                temp[k] = arr[j];\n",
    "                k++;\n",
    "                j++;\n",
    "            }\n",
    "        }\n",
    "\n",
    "        while(i <= mid){\n",
    "            temp[k] = arr[i];\n",
    "            k++;\n",
    "            i++;\n",
    "        }\n",
    "\n",
    "        while(j <= right){\n",
    "            temp[k] = arr[j];\n",
    "            k++;\n",
    "            j++;\n",
    "        }\n",
    "\n",
    "        for(int x=0; x<temp.length; x++){\n",
    "            arr[left+x] = temp[x];\n",
    "        }\n",
    "    }\n",
    "}"
   ]
  },
  {
   "cell_type": "code",
   "execution_count": 5,
   "metadata": {
    "vscode": {
     "languageId": "java"
    }
   },
   "outputs": [
    {
     "name": "stdout",
     "output_type": "stream",
     "text": [
      "Average: 49943.166816666664\n",
      "Total Seconds: 0.010133108\n"
     ]
    }
   ],
   "source": [
    "public class MergeSort {\n",
    "    public static void mergeSort(int[] x) {\n",
    "        int[] temp = new int[x.length];\n",
    "        mergeSortHelper(x, 0, x.length - 1, temp);\n",
    "    }\n",
    "\n",
    "    public static void mergeSortHelper(int[] x, int lowIndex, int highIndex, int[] temp) {\n",
    "        if (lowIndex < highIndex) {\n",
    "            int mid = (lowIndex + highIndex) / 2;\n",
    "            mergeSortHelper(x, lowIndex, mid, temp);\n",
    "            mergeSortHelper(x, mid + 1, highIndex, temp);\n",
    "            merge(x, lowIndex, mid, highIndex, temp);\n",
    "        }\n",
    "    }\n",
    "\n",
    "    public static void merge(int[] x, int lowIndex, int mid, int highIndex, int[] temp) {\n",
    "        int l = lowIndex;\n",
    "        int m = mid + 1;\n",
    "        int n = lowIndex;\n",
    "\n",
    "        while (l <= mid && m <= highIndex) {\n",
    "            if (x[l] < x[m]) {\n",
    "                temp[n] = x[l];\n",
    "                l++;\n",
    "            } else {\n",
    "                temp[n] = x[m];\n",
    "                m++;\n",
    "            }\n",
    "            n++;\n",
    "        }\n",
    "\n",
    "        while (l <= mid) {\n",
    "            temp[n] = x[l];\n",
    "            l++;\n",
    "            n++;\n",
    "        }\n",
    "\n",
    "        while (m <= highIndex) {\n",
    "            temp[n] = x[m];\n",
    "            m++;\n",
    "            n++;\n",
    "        }\n",
    "\n",
    "        for (n = lowIndex; n <= highIndex; n++) {\n",
    "            x[n] = temp[n];\n",
    "        }\n",
    "    }\n",
    "\n",
    "    public static void main(String[] args) {\n",
    "        final int TIMES = 12;\n",
    "        final int SIZE = 5000;\n",
    "        double sum = 0;\n",
    "        double time = 0;\n",
    "\n",
    "        for (int i = 0; i < TIMES; i++) {\n",
    "            int[] data = new int[SIZE];\n",
    "            for (int j = 0; j < data.length; j++) {\n",
    "                data[j] = (int) (Math.random() * 100000);\n",
    "            }\n",
    "            double startTime = System.nanoTime();\n",
    "            mergeSort(data);\n",
    "            double endTime = System.nanoTime();\n",
    "            sum += getSum(data);\n",
    "            time += endTime - startTime;\n",
    "        }\n",
    "        System.out.println(\"Average: \" + sum / (TIMES * SIZE));\n",
    "        System.out.println(\"Total Seconds: \" + time / 1000000000.0);\n",
    "    }\n",
    "\n",
    "    public static double getSum(int[] data) {\n",
    "        double sum = 0;\n",
    "        for (int i = 0; i < data.length; i++) {\n",
    "            sum += data[i];\n",
    "        }\n",
    "        return sum;\n",
    "    }\n",
    "}\n",
    "\n",
    "MergeSort.main(null);"
   ]
  },
  {
   "cell_type": "markdown",
   "metadata": {},
   "source": [
    "### Hashmaps\n",
    "\n",
    "Hash maps are data structures that store data in key-value pairs. They allow for fast retrieval of data based on a given key. In a hash map, the key is run through a hash function that converts it into an index within an array. The value associated with that key is then stored in the array at the corresponding index.\n",
    "\n",
    "The use of hash functions allows for constant-time access to the value associated with a given key, making hash maps very efficient for data retrieval. Hash maps are widely used in computer science and programming for tasks such as caching, database indexing, and implementing associative arrays.\n",
    "\n",
    "We are using a binary search tree to sort through the values. Then , once we find the value, then we associate the value. Caluclate the time, and return it. "
   ]
  },
  {
   "cell_type": "code",
   "execution_count": 4,
   "metadata": {
    "vscode": {
     "languageId": "java"
    }
   },
   "outputs": [
    {
     "name": "stdout",
     "output_type": "stream",
     "text": [
      "Look-up time: 1672 nanoseconds\n",
      "Binary Search time: 2913 nanoseconds\n"
     ]
    }
   ],
   "source": [
    "import java.util.HashMap;\n",
    "import java.lang.Integer;\n",
    "import java.util.Scanner;\n",
    "\n",
    "public class Hash {\n",
    "    public static void main(String[] args){\n",
    "        HashMap<Integer, Integer> hashmap = new HashMap<Integer, Integer>();\n",
    "        int[] list = new int[5000];\n",
    "\n",
    "        for (int i = 0; i < list.length; i++) {\n",
    "            Integer value = (int) (Math.random() * 5000);\n",
    "            hashmap.put(value, value);\n",
    "            list[i] = value;\n",
    "        }\n",
    "\n",
    "\n",
    "        public static long BinarySearch(int[] list, Integer value) {\n",
    "            long start = System.nanoTime();\n",
    "            /*\n",
    "            *  Binary Search is repeatedly dividing in half the portion of the list that could contain the item, \n",
    "            *  until you've narrowed down the possible locations to just one.\n",
    "            */\n",
    "\n",
    "            int low = 0;\n",
    "            int high = list.length - 1;\n",
    "            int middle = (low + high) / 2;\n",
    "            while (low <= high) {\n",
    "                if (list[middle] < value) {\n",
    "                    low = middle + 1;\n",
    "                } else if (list[middle] == value) {\n",
    "                    break;\n",
    "                } else {\n",
    "                    high = middle - 1;\n",
    "                }\n",
    "                middle = (low + high) / 2;\n",
    "            }\n",
    "            long end = System.nanoTime();\n",
    "            return (end - start);\n",
    "        }\n",
    "\n",
    "        long lookUpTime = (lookUp(hashmap, 12));\n",
    "        System.out.println(\"Look-up time: \" + lookUpTime + \" nanoseconds\");\n",
    "        long binarySearchTime = (binarySearchTime(list, 12));\n",
    "        System.out.println(\"Binary Search time: \" + binarySearchTime + \" nanoseconds\");\n",
    "        \n",
    "    }\n",
    "\n",
    "    public static long lookUp(HashMap<Integer, Integer> hashmap, Integer value) {\n",
    "        long start = System.nanoTime();\n",
    "        hashmap.containsKey(value);\n",
    "        long end = System.nanoTime();\n",
    "        return (end - start);\n",
    "    }\n",
    "\n",
    "\n",
    "}\n",
    "Hash.main(null);"
   ]
  }
 ],
 "metadata": {
  "kernelspec": {
   "display_name": "Java",
   "language": "java",
   "name": "java"
  },
  "language_info": {
   "codemirror_mode": "java",
   "file_extension": ".jshell",
   "mimetype": "text/x-java-source",
   "name": "Java",
   "pygments_lexer": "java",
   "version": "11.0.16+8-post-Ubuntu-0ubuntu120.04"
  },
  "orig_nbformat": 4
 },
 "nbformat": 4,
 "nbformat_minor": 2
}
