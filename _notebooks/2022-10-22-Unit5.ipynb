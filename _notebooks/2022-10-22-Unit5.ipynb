{
 "cells": [
  {
   "cell_type": "markdown",
   "metadata": {},
   "source": [
    "# Unit 5 Notes and 2021 FRQ 1A"
   ]
  },
  {
   "cell_type": "code",
   "execution_count": 1,
   "metadata": {
    "vscode": {
     "languageId": "java"
    }
   },
   "outputs": [],
   "source": [
    "public int scoreGuess( String guess ) {\n",
    "int val = 0;\n",
    "int len = guess.length();\n",
    "for( int i = 0; i <= secret.length()-len; i+=1){\n",
    "String ck = secret.substring( i, i+len );\n",
    "\n",
    "if( ck.equals(guess) ){\n",
    "    val++;\n",
    "}\n",
    "}\n",
    "return val*len*len;\n",
    "}"
   ]
  },
  {
   "cell_type": "markdown",
   "metadata": {},
   "source": [
    "# 2021 FRQ 3A"
   ]
  },
  {
   "cell_type": "code",
   "execution_count": null,
   "metadata": {
    "vscode": {
     "languageId": "java"
    }
   },
   "outputs": [],
   "source": [
    "public void addMembers(\n",
    "String[] names, int gradYear ){\n",
    "    \n",
    "for( String n : names ){\n",
    "memberList.add(new MemberInfo( n, gradYear, true) );\n",
    "}\n",
    "} "
   ]
  }
 ],
 "metadata": {
  "kernelspec": {
   "display_name": "Java",
   "language": "java",
   "name": "java"
  },
  "language_info": {
   "codemirror_mode": "java",
   "file_extension": ".jshell",
   "mimetype": "text/x-java-source",
   "name": "Java",
   "pygments_lexer": "java",
   "version": "11.0.16+8-post-Ubuntu-0ubuntu120.04"
  },
  "orig_nbformat": 4
 },
 "nbformat": 4,
 "nbformat_minor": 2
}
