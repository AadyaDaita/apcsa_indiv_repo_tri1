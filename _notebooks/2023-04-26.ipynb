{
 "cells": [
  {
   "cell_type": "markdown",
   "metadata": {},
   "source": [
    "          ---------------\n",
    "          |    Performer  |\n",
    "          ---------------\n",
    "           ^          ^\n",
    "          /            \\\n",
    "         /              \\\n",
    "---------------        ---------------\n",
    "|    Comedian  |       |   Dancer    |\n",
    "---------------        ---------------\n",
    "                           ^\n",
    "                             \\\n",
    "                               \\\n",
    "                               ---------------       \n",
    "                              |  Ballet      |       \n",
    "                                ---------------      \n",
    "\n",
    "\n",
    "### class Performer (Part 1)\n",
    "1. Define 1 argument constructor for title, \n",
    "2. Define toString method for id and title.\n",
    "3. Generate unique id for each object\n",
    "4. Create a public getter that has Book Count\n",
    "5. Define tester method that initializes at least 2 books, outputs id and title, and provides a count of books in library.\n",
    "\n",
    "### extended Classes (Part 2) Try to use alternate forms of loops and techniques for construction.\n",
    "1. Ensure Novel and Textbook run the Constructor from Book.\n",
    "2. Create instance variables unique to Novel has Author, Textbook has publishing company.  New items are not required by Constructor.  \n",
    "3. Make Getters and Setters for all new items.  You can add your own.\n",
    "4. Add a time when book entered the library.  This should be same for Parent and Subclasses.  \n",
    "5. Make sure there are getters and setters for items as needed.  For instance, be able to set items not required by constructor.\n",
    "6. Define tester method to test all items.  \n",
    "\n",
    "\n",
    "### Simulation (Part 3)\n",
    "1. Build a Tester Method that does a Simulation.\n",
    "2. Define a default method in Book that returns \"current shelfLife\" from date/time of construction. (Hint, think about capturing time in sorts)\n",
    "3. Define shelfLife expiration methods as needed in TextBook and Novel. \n",
    "    - A TextBook has a fixed shelf life based on the date/time of constructor.  (Hint, simulation 3 yrs as 3000 nanoseconds)\n",
    "    - A Novel has a computed shelf life of expiration, the simulation should extend shelf life if a certain number of return stamps where placed in the book.  (Hint, 3 return stamps renews for an extra year)\n",
    "4. Use a sleep in Java to assist with simulation\n",
    "5. Make a method that looks at book in library and determines if they need to come of the shelf, try to have title and on/off status in output."
   ]
  },
  {
   "cell_type": "markdown",
   "metadata": {},
   "source": [
    "## number 1 random string"
   ]
  },
  {
   "cell_type": "code",
   "execution_count": 11,
   "metadata": {
    "vscode": {
     "languageId": "java"
    }
   },
   "outputs": [
    {
     "name": "stdout",
     "output_type": "stream",
     "text": [
      "my\n",
      "name\n",
      "hello\n",
      "aadya\n",
      "is\n"
     ]
    }
   ],
   "source": [
    "public class RandomStringChooser\n",
    "{\n",
    "    private ArrayList<String> valuesRemaining;\n",
    "\n",
    "    public RandomStringChooser(String[] values)\n",
    "    {\n",
    "        valuesRemaining = new ArrayList<String>();\n",
    "\n",
    "        for(String value : values)\n",
    "            valuesRemaining.add(value);\n",
    "    }\n",
    "\n",
    "    public String getString(){\n",
    "        int index = (int) (Math.random() * valuesRemaining.size());\n",
    "        return valuesRemaining.get(index);   \n",
    "\n",
    "\n",
    "    }\n",
    "  \n",
    "\n",
    "    public String getNext()\n",
    "    {\n",
    "        if(valuesRemaining.size() == 0)\n",
    "            return \"NONE\";\n",
    "\n",
    "        int index = (int) (Math.random() * valuesRemaining.size());\n",
    "        return valuesRemaining.remove(index);\n",
    "    }\n",
    "\n",
    "  \n",
    "\n",
    "    public static void main(String[] args){\n",
    "        String[] strings = {\"hello\", \"my\", \"name\", \"is\", \"aadya\"};\n",
    "        RandomStringChooser obj = new RandomStringChooser(strings);\n",
    "        for(int i=0; i<5; i++){\n",
    "            System.out.println(obj.getNext());\n",
    "        }\n",
    "    }\n",
    "}\n",
    "\n",
    "RandomStringChooser.main(null);"
   ]
  },
  {
   "cell_type": "code",
   "execution_count": 25,
   "metadata": {
    "vscode": {
     "languageId": "java"
    }
   },
   "outputs": [
    {
     "name": "stdout",
     "output_type": "stream",
     "text": [
      "a\n",
      "d\n",
      "a\n",
      "y\n"
     ]
    }
   ],
   "source": [
    "public class RandomLetterChooser extends RandomStringChooser{\n",
    "    private String result = \"\";\n",
    "    \n",
    "    public RandomLetterChooser(){\n",
    "            result = super.getString();\n",
    "        }\n",
    "        public String getResult(){\n",
    "            return result;\n",
    "\n",
    "        }\n",
    "    \n",
    "        public static void main(String[] args){\n",
    "            RandomLetterChooser obj = new RandomLetterChooser();\n",
    "            obj.getResult();\n",
    "            obj.getResult();\n",
    "            obj.getResult();\n",
    "            obj.getResult();\n",
    "        }\n",
    " \n",
    "\n",
    "        \n",
    "    }\n",
    "    RandomLetterChooser.main(null);\n",
    "    "
   ]
  },
  {
   "cell_type": "markdown",
   "metadata": {},
   "source": [
    "## number 2: Log Message"
   ]
  },
  {
   "cell_type": "code",
   "execution_count": 33,
   "metadata": {
    "vscode": {
     "languageId": "java"
    }
   },
   "outputs": [
    {
     "name": "stdout",
     "output_type": "stream",
     "text": [
      "aadya\n",
      "daita\n",
      "false\n"
     ]
    }
   ],
   "source": [
    "public class LogMessage{\n",
    "    private String machineId;\n",
    "    private String description;\n",
    "\n",
    "    public LogMessage(String message)\n",
    "{\n",
    "    int colonIndex = message.indexOf(\":\");\n",
    "    machineId = message.substring(0, colonIndex);\n",
    "    description = message.substring(colonIndex + 1);\n",
    "    System.out.println(machineId);\n",
    "    System.out.println(description);\n",
    "\n",
    "}\n",
    "\n",
    "\n",
    "\n",
    "public boolean containsWord(String keyword)\n",
    "{\n",
    "    int keywordIndex = description.indexOf(keyword);\n",
    "\n",
    "    while(keywordIndex != -1)\n",
    "    {\n",
    "        int beforeIndex = keywordIndex - 1;\n",
    "        int afterIndex = keywordIndex + keyword.length();\n",
    "\n",
    "        if((beforeIndex == -1 ||\n",
    "                description.substring(beforeIndex, beforeIndex + 1).equals(\" \")) &&\n",
    "                (afterIndex == description.length() ||\n",
    "                description.substring(afterIndex, afterIndex + 1).equals(\" \")))\n",
    "            return true;\n",
    "\n",
    "        keywordIndex = description.indexOf(keyword, keywordIndex + 1);\n",
    "    }\n",
    "\n",
    "    return false;\n",
    "}\n",
    "    public static void main(String[] args){\n",
    "        LogMessage obj = new LogMessage(\"aadya:daita\");\n",
    "        System.out.println(obj.containsWord(\"yd\"));\n",
    "\n",
    "    }\n",
    "}\n",
    "\n",
    "\n",
    "LogMessage.main(null);\n"
   ]
  },
  {
   "cell_type": "code",
   "execution_count": 52,
   "metadata": {
    "vscode": {
     "languageId": "java"
    }
   },
   "outputs": [
    {
     "name": "stdout",
     "output_type": "stream",
     "text": [
      "is the sum of each row diver? : true\n",
      "6 15 24 "
     ]
    }
   ],
   "source": [
    "public class numberThree{\n",
    "    \n",
    "    public static int arraySum(int[] arr){\n",
    "    int sum = 0;\n",
    "\n",
    "    for(int n : arr)\n",
    "        sum += n;\n",
    "        return sum;\n",
    "    }\n",
    "\n",
    "    public static int[] rowSums(int[][] arr2D){\n",
    "    int[] sums = new int[arr2D.length];\n",
    "\n",
    "    for(int i = 0; i < sums.length; i++){\n",
    "        sums[i] = arraySum(arr2D[i]);\n",
    "    }\n",
    "\n",
    "     return sums;\n",
    "    }\n",
    "\n",
    "    public static boolean isDiverse(int[][] arr2D){\n",
    "    int[] sums = rowSums(arr2D);\n",
    "\n",
    "    for(int i = 0; i < sums.length; i++)\n",
    "        for(int j = i+1; j < sums.length; j++)\n",
    "            if(sums[i] == sums[j])\n",
    "                return false;\n",
    "\n",
    "    return true;\n",
    "    }\n",
    "\n",
    "    public static void main(String[] args){\n",
    "        int[][] arr = {{1,2,3},{4,5,6},{7,8,9}};\n",
    "        numberThree obj = new numberThree();\n",
    "\n",
    "        int [] arr2 = obj.rowSums(arr);\n",
    "\n",
    "        System.out.println(\"is the sum of each row diver? : \" + obj.isDiverse(arr));\n",
    "        for(int i=0; i<arr2.length; i++){\n",
    "            System.out.print(arr2[i] + \" \");\n",
    "        }\n",
    "        \n",
    "    }\n",
    "\n",
    "}\n",
    "\n",
    "numberThree.main(null);\n",
    "\n"
   ]
  },
  {
   "cell_type": "markdown",
   "metadata": {},
   "source": [
    "## number 4 Letters "
   ]
  },
  {
   "cell_type": "code",
   "execution_count": 41,
   "metadata": {
    "vscode": {
     "languageId": "java"
    }
   },
   "outputs": [
    {
     "name": "stdout",
     "output_type": "stream",
     "text": [
      "total letters: 14\n",
      "gap width: 2\n",
      "message ap  comp  sci  is  fun\n"
     ]
    }
   ],
   "source": [
    "public class numberFour{\n",
    "    public static int totalLetters(List<String> wordList)\n",
    "{\n",
    "    int letters = 0;\n",
    "\n",
    "    for(String word : wordList)\n",
    "        letters += word.length();\n",
    "\n",
    "    return letters;\n",
    "}\n",
    "\n",
    "public static int basicGapWidth(List<String> wordList, int formattedLen)\n",
    "{\n",
    "    int gaps = wordList.size() - 1;\n",
    "    int spaces = formattedLen - totalLetters(wordList);\n",
    "    return spaces / gaps;\n",
    "}\n",
    "\n",
    "public static int leftoverSpaces(){\n",
    "    return 4;\n",
    "}\n",
    "\n",
    "public static String format(List<String> wordList, int formattedLen)\n",
    "{\n",
    "    int width = basicGapWidth(wordList, formattedLen);\n",
    "    int leftoverRemaining = leftoverSpaces();\n",
    "\n",
    "    String formatted = \"\";\n",
    "    for(int i = 0; i < wordList.size() - 1; i++)\n",
    "    {\n",
    "        formatted += wordList.get(i);\n",
    "\n",
    "        for(int s = 1; s <= width; s++)\n",
    "            formatted += \" \";\n",
    "\n",
    "        if(leftoverRemaining > 0)\n",
    "        {\n",
    "            formatted += \" \";\n",
    "            leftoverRemaining--;\n",
    "        }\n",
    "    }\n",
    "\n",
    "    formatted += wordList.get(wordList.size() - 1);\n",
    "\n",
    "    return formatted;\n",
    "}\n",
    "\n",
    "public static void main(String[] args){\n",
    "    ArrayList<String> string = new ArrayList<String>();\n",
    "    string.add(\"ap\");\n",
    "    string.add(\"comp\");\n",
    "    string.add(\"sci\");\n",
    "    string.add(\"is\");\n",
    "    string.add(\"fun\");\n",
    "    numberFour obj = new numberFour();\n",
    "    System.out.println(\"total letters: \" + obj.totalLetters(string));\n",
    "    System.out.println(\"gap width: \" + obj.basicGapWidth(string, 20));\n",
    "    System.out.println(\"message \" + obj.format(string,20));\n",
    "\n",
    "}\n",
    "\n",
    "\n",
    "}\n",
    "numberFour.main(null);"
   ]
  }
 ],
 "metadata": {
  "kernelspec": {
   "display_name": "Java",
   "language": "java",
   "name": "java"
  },
  "language_info": {
   "codemirror_mode": "java",
   "file_extension": ".jshell",
   "mimetype": "text/x-java-source",
   "name": "Java",
   "pygments_lexer": "java",
   "version": "11.0.16+8-post-Ubuntu-0ubuntu120.04"
  },
  "orig_nbformat": 4
 },
 "nbformat": 4,
 "nbformat_minor": 2
}
