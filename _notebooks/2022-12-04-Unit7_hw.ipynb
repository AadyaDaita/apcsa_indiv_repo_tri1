{
 "cells": [
  {
   "cell_type": "markdown",
   "metadata": {},
   "source": [
    "# Unit 7 Application"
   ]
  },
  {
   "cell_type": "code",
   "execution_count": 10,
   "metadata": {},
   "outputs": [
    {
     "name": "stdout",
     "output_type": "stream",
     "text": [
      "in decending order: [101, 90, 72, 66, 31, 30, 23, 20, 4, 3, 2, 1]\n",
      "first and last element flipped while decending: [1, 90, 72, 66, 31, 30, 23, 20, 4, 3, 2, 101]\n"
     ]
    }
   ],
   "source": [
    "import java.util.ArrayList;\n",
    "import java.util.Collections;\n",
    "\n",
    "ArrayList<Integer> numbers = new ArrayList<>(Arrays.asList(1,2,3,4,20,30,101,72,23,31,90,66));\n",
    "\n",
    "Collections.sort(numbers);\n",
    "Collections.reverse(numbers);\n",
    "\n",
    "\n",
    "System.out.println(\"in decending order: \" + numbers);\n",
    "\n",
    "public static void swap_firstANDlast(){\n",
    "    Integer temp = numbers.get(0);\n",
    "    int last_index = numbers.size()-1; \n",
    "    numbers.set(0, numbers.get(last_index));\n",
    "    numbers.set(last_index, temp);\n",
    "    System.out.println(\"first and last element flipped while decending: \" + numbers);\n",
    "}\n",
    "swap_firstANDlast()\n"
   ]
  },
  {
   "cell_type": "code",
   "execution_count": 40,
   "metadata": {},
   "outputs": [
    {
     "name": "stdout",
     "output_type": "stream",
     "text": [
      "[1, 2, 3, 4, 20, 30, 101, 72, 23, 31, 90, 66]\n",
      "[1, 2, 3, 4, 20, 23, 30, 31, 66, 72, 90, 101]\n",
      "[101, 90, 72, 66, 31, 30, 23, 20, 4, 3, 2, 1]\n",
      "neither\n"
     ]
    }
   ],
   "source": [
    "import java.util.ArrayList;\n",
    "import java.util.Collections; \n",
    "\n",
    "\n",
    "ArrayList<Integer> numbers2 = new ArrayList<>(Arrays.asList(1,2,3,4,20,30,101,72,23,31,90,66));\n",
    "\n",
    "public void status(ArrayList<Integer> list){\n",
    "\n",
    "ArrayList<Integer> numbers_acending = (ArrayList<Integer>)numbers2.clone();\n",
    "Collections.sort(numbers_acending);\n",
    "System.out.println(numbers_acending);\n",
    "\n",
    "ArrayList<Integer> numbers_decending = (ArrayList<Integer>)numbers_acending.clone();\n",
    "Collections.reverse(numbers_decending);\n",
    "System.out.println(numbers_decending);\n",
    "\n",
    "if (numbers_acending == numbers2){\n",
    "    System.out.println(\"acending\");\n",
    "}\n",
    "else if (numbers_decending == numbers2){\n",
    "    System.out.println(\"decending\");\n",
    "}\n",
    "else{\n",
    "    System.out.println(\"neither\");\n",
    "}\n",
    "\n",
    "}\n",
    "//System.out.print(numbers_decending);\n",
    "\n",
    "System.out.println(numbers2);\n",
    "\n",
    "status(numbers2);"
   ]
  }
 ],
 "metadata": {
  "kernelspec": {
   "display_name": "Java",
   "language": "java",
   "name": "java"
  },
  "language_info": {
   "codemirror_mode": "java",
   "file_extension": ".jshell",
   "mimetype": "text/x-java-source",
   "name": "java",
   "pygments_lexer": "java",
   "version": "11.0.16+8-post-Ubuntu-0ubuntu120.04"
  },
  "orig_nbformat": 4
 },
 "nbformat": 4,
 "nbformat_minor": 2
}
