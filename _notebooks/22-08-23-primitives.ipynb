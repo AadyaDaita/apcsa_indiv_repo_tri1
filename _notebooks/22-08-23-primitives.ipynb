{
 "cells": [
  {
   "cell_type": "markdown",
   "metadata": {},
   "source": [
    "**Java**: \n",
    "- When you write code in java. Then, there are two parts to the compiler: the first part turns the code into bytecode. Then, the second part makes the code suitable for any type of processor/computer. \n",
    "\n",
    "**Data Types**:\n",
    "- Primitives and Non-primitive (Wrapper Classes): built in data types, and do not need to declare a class to use them\n",
    "- Wrapper classes are non-primitive data types \n",
    "    - For college board, String is a primitive data type\n",
    "    - In regular Java, Strings are Non-primitive data type.\n",
    "- Wrapper classes have method, since you are declaring them \n",
    "\n"
   ]
  },
  {
   "cell_type": "markdown",
   "metadata": {},
   "source": [
    "![img](images/data_types.png)"
   ]
  }
 ],
 "metadata": {
  "kernelspec": {
   "display_name": "Python 3.8.10 64-bit",
   "language": "python",
   "name": "python3"
  },
  "language_info": {
   "name": "python",
   "version": "3.8.10"
  },
  "orig_nbformat": 4,
  "vscode": {
   "interpreter": {
    "hash": "916dbcbb3f70747c44a77c7bcd40155683ae19c65e1c03b4aa3499c5328201f1"
   }
  }
 },
 "nbformat": 4,
 "nbformat_minor": 2
}
