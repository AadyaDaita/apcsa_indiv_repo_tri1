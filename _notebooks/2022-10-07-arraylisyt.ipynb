{
 "cells": [
  {
   "cell_type": "code",
   "execution_count": 61,
   "metadata": {
    "vscode": {
     "languageId": "java"
    }
   },
   "outputs": [
    {
     "name": "stdout",
     "output_type": "stream",
     "text": [
      "[shirt 1]\n",
      "[shirt 1, shirt 2]\n",
      "[shirt 1, shirt 2, shirt 3]\n",
      "[shirt 1, shirt 2, shirt 3, shirt 4]\n",
      "[shirt 1, shirt 2, shirt 3, shirt 4, shirt 5]\n",
      "added all five shirts\n",
      "[shirt 2, shirt 3, shirt 4, shirt 5]\n",
      "[shirt 3, shirt 4, shirt 5]\n",
      "[shirt 4, shirt 5]\n",
      "[shirt 5]\n",
      "removed four shirts\n",
      "[]\n",
      "cleared any remaining shirts\n"
     ]
    }
   ],
   "source": [
    "import java.util.ArrayList;\n",
    " \n",
    "class arraylist {\n",
    "    public ArrayList<String> add()\n",
    "    {\n",
    "        // Size\n",
    "        int n = 5;\n",
    "\n",
    "        // initial size n\n",
    "        ArrayList<String> arrli = new ArrayList<String>(n);\n",
    " \n",
    "        // Appending new elements at\n",
    "        // the end of the list\n",
    "        for (Integer i = 1; i <= n; i++){\n",
    "            String string_i = i.toString();\n",
    "            String shirt = \"shirt \";\n",
    "            shirt = shirt + string_i;\n",
    "            arrli.add(shirt);\n",
    "            System.out.println(arrli);\n",
    "        }\n",
    "        System.out.println(\"added all five shirts\");\n",
    "        return arrli;\n",
    "    }\n",
    "\n",
    "\n",
    "    \n",
    "    public ArrayList<String> remove(){\n",
    "           // Size\n",
    "           int n = 5;\n",
    "\n",
    "           // initial size n\n",
    "           ArrayList<String> arrli = new ArrayList<String>(n);\n",
    "           arrli = add();\n",
    "    \n",
    "        for (Integer i=0; i<4; i++){\n",
    "            arrli.remove(0);\n",
    "            System.out.println(arrli);\n",
    "        }\n",
    "        System.out.println(\"removed four shirts\");\n",
    "        arrli.clear();\n",
    "        System.out.println(arrli);\n",
    "        System.out.println(\"cleared any remaining shirts\");\n",
    "        return arrli;\n",
    "\n",
    "    }\n",
    "    \n",
    "\n",
    "    public static void main(String[] args)\n",
    "    {\n",
    "        arraylist object_array = new arraylist();\n",
    "        //object_array.add();\n",
    "        object_array.remove();\n",
    "        \n",
    "    }\n",
    "    \n",
    "}\n",
    "\n",
    "arraylist.main(null);\n",
    "\n"
   ]
  }
 ],
 "metadata": {
  "kernelspec": {
   "display_name": "Java",
   "language": "java",
   "name": "java"
  },
  "language_info": {
   "codemirror_mode": "java",
   "file_extension": ".jshell",
   "mimetype": "text/x-java-source",
   "name": "Java",
   "pygments_lexer": "java",
   "version": "11.0.16+8-post-Ubuntu-0ubuntu120.04"
  },
  "orig_nbformat": 4
 },
 "nbformat": 4,
 "nbformat_minor": 2
}
